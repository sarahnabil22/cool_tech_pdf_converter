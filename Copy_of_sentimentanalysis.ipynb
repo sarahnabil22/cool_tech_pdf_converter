{
  "cells": [
    {
      "cell_type": "markdown",
      "metadata": {
        "id": "view-in-github",
        "colab_type": "text"
      },
      "source": [
        "<a href=\"https://colab.research.google.com/github/sarahnabil22/cool_tech_pdf_converter/blob/main/Copy_of_sentimentanalysis.ipynb\" target=\"_parent\"><img src=\"https://colab.research.google.com/assets/colab-badge.svg\" alt=\"Open In Colab\"/></a>"
      ]
    },
    {
      "cell_type": "code",
      "execution_count": null,
      "metadata": {
        "id": "9650ead2"
      },
      "outputs": [],
      "source": [
        "import pandas as pd\n",
        "import re\n",
        "from nltk.tokenize import sent_tokenize, word_tokenize\n",
        "import string\n",
        "import numpy as np\n",
        "from tensorflow.keras import optimizers"
      ],
      "id": "9650ead2"
    },
    {
      "cell_type": "code",
      "execution_count": null,
      "metadata": {
        "colab": {
          "base_uri": "https://localhost:8080/"
        },
        "id": "KfKNrwWKba8S",
        "outputId": "08d30734-f11d-45db-c0a2-d616befa509a"
      },
      "outputs": [
        {
          "output_type": "stream",
          "name": "stdout",
          "text": [
            "Mounted at /content/gdrive\n"
          ]
        }
      ],
      "source": [
        "from google.colab import drive\n",
        "drive.mount('/content/gdrive')"
      ],
      "id": "KfKNrwWKba8S"
    },
    {
      "cell_type": "code",
      "source": [
        "!git clone \"https://github.com/IndoNLP/indonlu.git\""
      ],
      "metadata": {
        "id": "PCz04I9bpZrR"
      },
      "id": "PCz04I9bpZrR",
      "execution_count": null,
      "outputs": []
    },
    {
      "cell_type": "code",
      "execution_count": null,
      "metadata": {
        "id": "75e8c324"
      },
      "outputs": [],
      "source": [
        "df=pd.read_csv(\"/content/gdrive/MyDrive/Colab Notebooks/finance_dataset_-_Sheet1.csv\")"
      ],
      "id": "75e8c324"
    },
    {
      "cell_type": "code",
      "source": [
        "df_ext = pd.read_csv(\"/content/gdrive/MyDrive/Colab Notebooks/financial_news_mt.csv\")"
      ],
      "metadata": {
        "id": "izxW7yE7pVgd"
      },
      "id": "izxW7yE7pVgd",
      "execution_count": null,
      "outputs": []
    },
    {
      "cell_type": "code",
      "source": [
        "df_ext_2 = pd.read_csv(\"/content/gdrive/MyDrive/Colab Notebooks/financial_news_mt_2.csv\")"
      ],
      "metadata": {
        "id": "Rw5fbagx8qWe"
      },
      "id": "Rw5fbagx8qWe",
      "execution_count": null,
      "outputs": []
    },
    {
      "cell_type": "code",
      "source": [
        "df_ext_3 = pd.read_csv(\"/content/indonlu/dataset/smsa_doc-sentiment-prosa/train_preprocess.tsv\", sep = \"\\t\", header = None)"
      ],
      "metadata": {
        "id": "Ue8_jRyy5yMK"
      },
      "id": "Ue8_jRyy5yMK",
      "execution_count": null,
      "outputs": []
    },
    {
      "cell_type": "code",
      "source": [
        "df = df[['label', 'content']]"
      ],
      "metadata": {
        "id": "big6QELgvNIb"
      },
      "id": "big6QELgvNIb",
      "execution_count": null,
      "outputs": []
    },
    {
      "cell_type": "code",
      "source": [
        "df.head()"
      ],
      "metadata": {
        "id": "qOH98CcUycMN",
        "colab": {
          "base_uri": "https://localhost:8080/",
          "height": 206
        },
        "outputId": "6fc018fb-7834-4ebf-a630-462b588cf177"
      },
      "id": "qOH98CcUycMN",
      "execution_count": null,
      "outputs": [
        {
          "output_type": "execute_result",
          "data": {
            "text/plain": [
              "  label                                            content\n",
              "0    up  Santa Claus Rally menurut Investopedia pada Ju...\n",
              "1    up  PT Perusahaan Perdagangan Indonesia (Persero) ...\n",
              "2  down  Ekonomi bali terkontraksi selama pandemi salah...\n",
              "3  down  Oke kita mulai dari yang masih hangat di perbi...\n",
              "4  down  Kegiatan ekspor batu bara resmi dilarang oleh ..."
            ],
            "text/html": [
              "\n",
              "  <div id=\"df-b2bd0aa1-bde2-40f1-8b9a-57f82be72e95\">\n",
              "    <div class=\"colab-df-container\">\n",
              "      <div>\n",
              "<style scoped>\n",
              "    .dataframe tbody tr th:only-of-type {\n",
              "        vertical-align: middle;\n",
              "    }\n",
              "\n",
              "    .dataframe tbody tr th {\n",
              "        vertical-align: top;\n",
              "    }\n",
              "\n",
              "    .dataframe thead th {\n",
              "        text-align: right;\n",
              "    }\n",
              "</style>\n",
              "<table border=\"1\" class=\"dataframe\">\n",
              "  <thead>\n",
              "    <tr style=\"text-align: right;\">\n",
              "      <th></th>\n",
              "      <th>label</th>\n",
              "      <th>content</th>\n",
              "    </tr>\n",
              "  </thead>\n",
              "  <tbody>\n",
              "    <tr>\n",
              "      <th>0</th>\n",
              "      <td>up</td>\n",
              "      <td>Santa Claus Rally menurut Investopedia pada Ju...</td>\n",
              "    </tr>\n",
              "    <tr>\n",
              "      <th>1</th>\n",
              "      <td>up</td>\n",
              "      <td>PT Perusahaan Perdagangan Indonesia (Persero) ...</td>\n",
              "    </tr>\n",
              "    <tr>\n",
              "      <th>2</th>\n",
              "      <td>down</td>\n",
              "      <td>Ekonomi bali terkontraksi selama pandemi salah...</td>\n",
              "    </tr>\n",
              "    <tr>\n",
              "      <th>3</th>\n",
              "      <td>down</td>\n",
              "      <td>Oke kita mulai dari yang masih hangat di perbi...</td>\n",
              "    </tr>\n",
              "    <tr>\n",
              "      <th>4</th>\n",
              "      <td>down</td>\n",
              "      <td>Kegiatan ekspor batu bara resmi dilarang oleh ...</td>\n",
              "    </tr>\n",
              "  </tbody>\n",
              "</table>\n",
              "</div>\n",
              "      <button class=\"colab-df-convert\" onclick=\"convertToInteractive('df-b2bd0aa1-bde2-40f1-8b9a-57f82be72e95')\"\n",
              "              title=\"Convert this dataframe to an interactive table.\"\n",
              "              style=\"display:none;\">\n",
              "        \n",
              "  <svg xmlns=\"http://www.w3.org/2000/svg\" height=\"24px\"viewBox=\"0 0 24 24\"\n",
              "       width=\"24px\">\n",
              "    <path d=\"M0 0h24v24H0V0z\" fill=\"none\"/>\n",
              "    <path d=\"M18.56 5.44l.94 2.06.94-2.06 2.06-.94-2.06-.94-.94-2.06-.94 2.06-2.06.94zm-11 1L8.5 8.5l.94-2.06 2.06-.94-2.06-.94L8.5 2.5l-.94 2.06-2.06.94zm10 10l.94 2.06.94-2.06 2.06-.94-2.06-.94-.94-2.06-.94 2.06-2.06.94z\"/><path d=\"M17.41 7.96l-1.37-1.37c-.4-.4-.92-.59-1.43-.59-.52 0-1.04.2-1.43.59L10.3 9.45l-7.72 7.72c-.78.78-.78 2.05 0 2.83L4 21.41c.39.39.9.59 1.41.59.51 0 1.02-.2 1.41-.59l7.78-7.78 2.81-2.81c.8-.78.8-2.07 0-2.86zM5.41 20L4 18.59l7.72-7.72 1.47 1.35L5.41 20z\"/>\n",
              "  </svg>\n",
              "      </button>\n",
              "      \n",
              "  <style>\n",
              "    .colab-df-container {\n",
              "      display:flex;\n",
              "      flex-wrap:wrap;\n",
              "      gap: 12px;\n",
              "    }\n",
              "\n",
              "    .colab-df-convert {\n",
              "      background-color: #E8F0FE;\n",
              "      border: none;\n",
              "      border-radius: 50%;\n",
              "      cursor: pointer;\n",
              "      display: none;\n",
              "      fill: #1967D2;\n",
              "      height: 32px;\n",
              "      padding: 0 0 0 0;\n",
              "      width: 32px;\n",
              "    }\n",
              "\n",
              "    .colab-df-convert:hover {\n",
              "      background-color: #E2EBFA;\n",
              "      box-shadow: 0px 1px 2px rgba(60, 64, 67, 0.3), 0px 1px 3px 1px rgba(60, 64, 67, 0.15);\n",
              "      fill: #174EA6;\n",
              "    }\n",
              "\n",
              "    [theme=dark] .colab-df-convert {\n",
              "      background-color: #3B4455;\n",
              "      fill: #D2E3FC;\n",
              "    }\n",
              "\n",
              "    [theme=dark] .colab-df-convert:hover {\n",
              "      background-color: #434B5C;\n",
              "      box-shadow: 0px 1px 3px 1px rgba(0, 0, 0, 0.15);\n",
              "      filter: drop-shadow(0px 1px 2px rgba(0, 0, 0, 0.3));\n",
              "      fill: #FFFFFF;\n",
              "    }\n",
              "  </style>\n",
              "\n",
              "      <script>\n",
              "        const buttonEl =\n",
              "          document.querySelector('#df-b2bd0aa1-bde2-40f1-8b9a-57f82be72e95 button.colab-df-convert');\n",
              "        buttonEl.style.display =\n",
              "          google.colab.kernel.accessAllowed ? 'block' : 'none';\n",
              "\n",
              "        async function convertToInteractive(key) {\n",
              "          const element = document.querySelector('#df-b2bd0aa1-bde2-40f1-8b9a-57f82be72e95');\n",
              "          const dataTable =\n",
              "            await google.colab.kernel.invokeFunction('convertToInteractive',\n",
              "                                                     [key], {});\n",
              "          if (!dataTable) return;\n",
              "\n",
              "          const docLinkHtml = 'Like what you see? Visit the ' +\n",
              "            '<a target=\"_blank\" href=https://colab.research.google.com/notebooks/data_table.ipynb>data table notebook</a>'\n",
              "            + ' to learn more about interactive tables.';\n",
              "          element.innerHTML = '';\n",
              "          dataTable['output_type'] = 'display_data';\n",
              "          await google.colab.output.renderOutput(dataTable, element);\n",
              "          const docLink = document.createElement('div');\n",
              "          docLink.innerHTML = docLinkHtml;\n",
              "          element.appendChild(docLink);\n",
              "        }\n",
              "      </script>\n",
              "    </div>\n",
              "  </div>\n",
              "  "
            ]
          },
          "metadata": {},
          "execution_count": 10
        }
      ]
    },
    {
      "cell_type": "code",
      "source": [
        "df_ext = df_ext.drop(columns = [\"Unnamed: 0\", \"en_text\"])"
      ],
      "metadata": {
        "id": "0GtyoiFl2twY"
      },
      "id": "0GtyoiFl2twY",
      "execution_count": null,
      "outputs": []
    },
    {
      "cell_type": "code",
      "source": [
        "df_ext.head()"
      ],
      "metadata": {
        "id": "bgyHqYpJ8wbs",
        "colab": {
          "base_uri": "https://localhost:8080/",
          "height": 206
        },
        "outputId": "9f28a039-5945-4af8-ae39-cce99dd4e2ea"
      },
      "id": "bgyHqYpJ8wbs",
      "execution_count": null,
      "outputs": [
        {
          "output_type": "execute_result",
          "data": {
            "text/plain": [
              "      label                                            id_text\n",
              "0  negative  Perusahaan industri elektronik internasional E...\n",
              "1  positive  Dengan pabrik produksi baru, perusahaan akan m...\n",
              "2  positive  Sesuai dengan strategi terbaru perusahaan untu...\n",
              "3  positive  PEMBIAYAAN UNTUK PERTUMBUHAN ASPOCOMP Aspocomp...\n",
              "4  positive  Untuk kuartal terakhir tahun 2010, penjualan b..."
            ],
            "text/html": [
              "\n",
              "  <div id=\"df-7603a216-a9a2-4792-afb0-324b806a1a68\">\n",
              "    <div class=\"colab-df-container\">\n",
              "      <div>\n",
              "<style scoped>\n",
              "    .dataframe tbody tr th:only-of-type {\n",
              "        vertical-align: middle;\n",
              "    }\n",
              "\n",
              "    .dataframe tbody tr th {\n",
              "        vertical-align: top;\n",
              "    }\n",
              "\n",
              "    .dataframe thead th {\n",
              "        text-align: right;\n",
              "    }\n",
              "</style>\n",
              "<table border=\"1\" class=\"dataframe\">\n",
              "  <thead>\n",
              "    <tr style=\"text-align: right;\">\n",
              "      <th></th>\n",
              "      <th>label</th>\n",
              "      <th>id_text</th>\n",
              "    </tr>\n",
              "  </thead>\n",
              "  <tbody>\n",
              "    <tr>\n",
              "      <th>0</th>\n",
              "      <td>negative</td>\n",
              "      <td>Perusahaan industri elektronik internasional E...</td>\n",
              "    </tr>\n",
              "    <tr>\n",
              "      <th>1</th>\n",
              "      <td>positive</td>\n",
              "      <td>Dengan pabrik produksi baru, perusahaan akan m...</td>\n",
              "    </tr>\n",
              "    <tr>\n",
              "      <th>2</th>\n",
              "      <td>positive</td>\n",
              "      <td>Sesuai dengan strategi terbaru perusahaan untu...</td>\n",
              "    </tr>\n",
              "    <tr>\n",
              "      <th>3</th>\n",
              "      <td>positive</td>\n",
              "      <td>PEMBIAYAAN UNTUK PERTUMBUHAN ASPOCOMP Aspocomp...</td>\n",
              "    </tr>\n",
              "    <tr>\n",
              "      <th>4</th>\n",
              "      <td>positive</td>\n",
              "      <td>Untuk kuartal terakhir tahun 2010, penjualan b...</td>\n",
              "    </tr>\n",
              "  </tbody>\n",
              "</table>\n",
              "</div>\n",
              "      <button class=\"colab-df-convert\" onclick=\"convertToInteractive('df-7603a216-a9a2-4792-afb0-324b806a1a68')\"\n",
              "              title=\"Convert this dataframe to an interactive table.\"\n",
              "              style=\"display:none;\">\n",
              "        \n",
              "  <svg xmlns=\"http://www.w3.org/2000/svg\" height=\"24px\"viewBox=\"0 0 24 24\"\n",
              "       width=\"24px\">\n",
              "    <path d=\"M0 0h24v24H0V0z\" fill=\"none\"/>\n",
              "    <path d=\"M18.56 5.44l.94 2.06.94-2.06 2.06-.94-2.06-.94-.94-2.06-.94 2.06-2.06.94zm-11 1L8.5 8.5l.94-2.06 2.06-.94-2.06-.94L8.5 2.5l-.94 2.06-2.06.94zm10 10l.94 2.06.94-2.06 2.06-.94-2.06-.94-.94-2.06-.94 2.06-2.06.94z\"/><path d=\"M17.41 7.96l-1.37-1.37c-.4-.4-.92-.59-1.43-.59-.52 0-1.04.2-1.43.59L10.3 9.45l-7.72 7.72c-.78.78-.78 2.05 0 2.83L4 21.41c.39.39.9.59 1.41.59.51 0 1.02-.2 1.41-.59l7.78-7.78 2.81-2.81c.8-.78.8-2.07 0-2.86zM5.41 20L4 18.59l7.72-7.72 1.47 1.35L5.41 20z\"/>\n",
              "  </svg>\n",
              "      </button>\n",
              "      \n",
              "  <style>\n",
              "    .colab-df-container {\n",
              "      display:flex;\n",
              "      flex-wrap:wrap;\n",
              "      gap: 12px;\n",
              "    }\n",
              "\n",
              "    .colab-df-convert {\n",
              "      background-color: #E8F0FE;\n",
              "      border: none;\n",
              "      border-radius: 50%;\n",
              "      cursor: pointer;\n",
              "      display: none;\n",
              "      fill: #1967D2;\n",
              "      height: 32px;\n",
              "      padding: 0 0 0 0;\n",
              "      width: 32px;\n",
              "    }\n",
              "\n",
              "    .colab-df-convert:hover {\n",
              "      background-color: #E2EBFA;\n",
              "      box-shadow: 0px 1px 2px rgba(60, 64, 67, 0.3), 0px 1px 3px 1px rgba(60, 64, 67, 0.15);\n",
              "      fill: #174EA6;\n",
              "    }\n",
              "\n",
              "    [theme=dark] .colab-df-convert {\n",
              "      background-color: #3B4455;\n",
              "      fill: #D2E3FC;\n",
              "    }\n",
              "\n",
              "    [theme=dark] .colab-df-convert:hover {\n",
              "      background-color: #434B5C;\n",
              "      box-shadow: 0px 1px 3px 1px rgba(0, 0, 0, 0.15);\n",
              "      filter: drop-shadow(0px 1px 2px rgba(0, 0, 0, 0.3));\n",
              "      fill: #FFFFFF;\n",
              "    }\n",
              "  </style>\n",
              "\n",
              "      <script>\n",
              "        const buttonEl =\n",
              "          document.querySelector('#df-7603a216-a9a2-4792-afb0-324b806a1a68 button.colab-df-convert');\n",
              "        buttonEl.style.display =\n",
              "          google.colab.kernel.accessAllowed ? 'block' : 'none';\n",
              "\n",
              "        async function convertToInteractive(key) {\n",
              "          const element = document.querySelector('#df-7603a216-a9a2-4792-afb0-324b806a1a68');\n",
              "          const dataTable =\n",
              "            await google.colab.kernel.invokeFunction('convertToInteractive',\n",
              "                                                     [key], {});\n",
              "          if (!dataTable) return;\n",
              "\n",
              "          const docLinkHtml = 'Like what you see? Visit the ' +\n",
              "            '<a target=\"_blank\" href=https://colab.research.google.com/notebooks/data_table.ipynb>data table notebook</a>'\n",
              "            + ' to learn more about interactive tables.';\n",
              "          element.innerHTML = '';\n",
              "          dataTable['output_type'] = 'display_data';\n",
              "          await google.colab.output.renderOutput(dataTable, element);\n",
              "          const docLink = document.createElement('div');\n",
              "          docLink.innerHTML = docLinkHtml;\n",
              "          element.appendChild(docLink);\n",
              "        }\n",
              "      </script>\n",
              "    </div>\n",
              "  </div>\n",
              "  "
            ]
          },
          "metadata": {},
          "execution_count": 12
        }
      ]
    },
    {
      "cell_type": "code",
      "source": [
        "df_ext.columns = [\"label\", \"content\"]"
      ],
      "metadata": {
        "id": "8b3DIK3lqKVZ"
      },
      "id": "8b3DIK3lqKVZ",
      "execution_count": null,
      "outputs": []
    },
    {
      "cell_type": "code",
      "source": [
        "df_ext = df_ext[df_ext[\"label\"] != \"neutral\"]"
      ],
      "metadata": {
        "id": "rj0yDpj7qOOf"
      },
      "id": "rj0yDpj7qOOf",
      "execution_count": null,
      "outputs": []
    },
    {
      "cell_type": "code",
      "source": [
        "df_ext[\"content\"][4]"
      ],
      "metadata": {
        "id": "F-fSksNU29nL",
        "colab": {
          "base_uri": "https://localhost:8080/",
          "height": 70
        },
        "outputId": "8a85e122-5937-4c4a-802e-24bc8309708d"
      },
      "id": "F-fSksNU29nL",
      "execution_count": null,
      "outputs": [
        {
          "output_type": "execute_result",
          "data": {
            "text/plain": [
              "'Untuk kuartal terakhir tahun 2010, penjualan bersih Componenta berlipat ganda menjadi EUR131 juta dari EUR76 juta untuk periode yang sama tahun sebelumnya, sementara itu bergerak ke laba sebelum pajak nol dari kerugian sebelum pajak sebesar EUR7 juta.'"
            ],
            "application/vnd.google.colaboratory.intrinsic+json": {
              "type": "string"
            }
          },
          "metadata": {},
          "execution_count": 15
        }
      ]
    },
    {
      "cell_type": "code",
      "source": [
        "label_dict = {'positive':'up', 'negative':'down'}\n",
        "df_ext[\"label\"] = df_ext[\"label\"].map(label_dict)"
      ],
      "metadata": {
        "id": "DFD7cf8upjch"
      },
      "id": "DFD7cf8upjch",
      "execution_count": null,
      "outputs": []
    },
    {
      "cell_type": "code",
      "source": [
        "df_ext[\"label\"].value_counts()"
      ],
      "metadata": {
        "id": "BE8jUDrEo3fj",
        "colab": {
          "base_uri": "https://localhost:8080/"
        },
        "outputId": "b374ebb6-6106-4ea5-a03e-5aff76d4cc27"
      },
      "id": "BE8jUDrEo3fj",
      "execution_count": null,
      "outputs": [
        {
          "output_type": "execute_result",
          "data": {
            "text/plain": [
              "up      1363\n",
              "down     604\n",
              "Name: label, dtype: int64"
            ]
          },
          "metadata": {},
          "execution_count": 17
        }
      ]
    },
    {
      "cell_type": "code",
      "source": [
        "df_ext_2"
      ],
      "metadata": {
        "id": "kVKHtjSQ85se",
        "colab": {
          "base_uri": "https://localhost:8080/",
          "height": 424
        },
        "outputId": "5d07ede1-cabe-46f9-d580-8f9191b7f784"
      },
      "id": "kVKHtjSQ85se",
      "execution_count": null,
      "outputs": [
        {
          "output_type": "execute_result",
          "data": {
            "text/plain": [
              "    label                                            content\n",
              "0      up  Investor miliarder dan bintang Shark Tank Mark...\n",
              "1      up  Pengacara Jarrett Adams baru-baru ini membantu...\n",
              "2      up  Hutan Hujan Amazon terkenal di seluruh dunia s...\n",
              "3      up  Polisi Newark: Tidak ada petugas yang melepask...\n",
              "4      up  I 1970 dÃ¸de det 560 mennesker i den norske tr...\n",
              "..    ...                                                ...\n",
              "843  down  Rincian menakutkan telah muncul tentang serang...\n",
              "844  down  wawancara\\n\\nJohannesburg - 360.000 remaja dip...\n",
              "845  down  Sebuah serangan kekerasan di kota pelabuhan Is...\n",
              "846  down  Seorang anak laki-laki berusia 17 tahun, terla...\n",
              "847  down  HONG KONG (AFP) - Lima orang tewas dan 32 lain...\n",
              "\n",
              "[848 rows x 2 columns]"
            ],
            "text/html": [
              "\n",
              "  <div id=\"df-166574c6-b2c3-49d7-8959-30a15403163f\">\n",
              "    <div class=\"colab-df-container\">\n",
              "      <div>\n",
              "<style scoped>\n",
              "    .dataframe tbody tr th:only-of-type {\n",
              "        vertical-align: middle;\n",
              "    }\n",
              "\n",
              "    .dataframe tbody tr th {\n",
              "        vertical-align: top;\n",
              "    }\n",
              "\n",
              "    .dataframe thead th {\n",
              "        text-align: right;\n",
              "    }\n",
              "</style>\n",
              "<table border=\"1\" class=\"dataframe\">\n",
              "  <thead>\n",
              "    <tr style=\"text-align: right;\">\n",
              "      <th></th>\n",
              "      <th>label</th>\n",
              "      <th>content</th>\n",
              "    </tr>\n",
              "  </thead>\n",
              "  <tbody>\n",
              "    <tr>\n",
              "      <th>0</th>\n",
              "      <td>up</td>\n",
              "      <td>Investor miliarder dan bintang Shark Tank Mark...</td>\n",
              "    </tr>\n",
              "    <tr>\n",
              "      <th>1</th>\n",
              "      <td>up</td>\n",
              "      <td>Pengacara Jarrett Adams baru-baru ini membantu...</td>\n",
              "    </tr>\n",
              "    <tr>\n",
              "      <th>2</th>\n",
              "      <td>up</td>\n",
              "      <td>Hutan Hujan Amazon terkenal di seluruh dunia s...</td>\n",
              "    </tr>\n",
              "    <tr>\n",
              "      <th>3</th>\n",
              "      <td>up</td>\n",
              "      <td>Polisi Newark: Tidak ada petugas yang melepask...</td>\n",
              "    </tr>\n",
              "    <tr>\n",
              "      <th>4</th>\n",
              "      <td>up</td>\n",
              "      <td>I 1970 dÃ¸de det 560 mennesker i den norske tr...</td>\n",
              "    </tr>\n",
              "    <tr>\n",
              "      <th>...</th>\n",
              "      <td>...</td>\n",
              "      <td>...</td>\n",
              "    </tr>\n",
              "    <tr>\n",
              "      <th>843</th>\n",
              "      <td>down</td>\n",
              "      <td>Rincian menakutkan telah muncul tentang serang...</td>\n",
              "    </tr>\n",
              "    <tr>\n",
              "      <th>844</th>\n",
              "      <td>down</td>\n",
              "      <td>wawancara\\n\\nJohannesburg - 360.000 remaja dip...</td>\n",
              "    </tr>\n",
              "    <tr>\n",
              "      <th>845</th>\n",
              "      <td>down</td>\n",
              "      <td>Sebuah serangan kekerasan di kota pelabuhan Is...</td>\n",
              "    </tr>\n",
              "    <tr>\n",
              "      <th>846</th>\n",
              "      <td>down</td>\n",
              "      <td>Seorang anak laki-laki berusia 17 tahun, terla...</td>\n",
              "    </tr>\n",
              "    <tr>\n",
              "      <th>847</th>\n",
              "      <td>down</td>\n",
              "      <td>HONG KONG (AFP) - Lima orang tewas dan 32 lain...</td>\n",
              "    </tr>\n",
              "  </tbody>\n",
              "</table>\n",
              "<p>848 rows × 2 columns</p>\n",
              "</div>\n",
              "      <button class=\"colab-df-convert\" onclick=\"convertToInteractive('df-166574c6-b2c3-49d7-8959-30a15403163f')\"\n",
              "              title=\"Convert this dataframe to an interactive table.\"\n",
              "              style=\"display:none;\">\n",
              "        \n",
              "  <svg xmlns=\"http://www.w3.org/2000/svg\" height=\"24px\"viewBox=\"0 0 24 24\"\n",
              "       width=\"24px\">\n",
              "    <path d=\"M0 0h24v24H0V0z\" fill=\"none\"/>\n",
              "    <path d=\"M18.56 5.44l.94 2.06.94-2.06 2.06-.94-2.06-.94-.94-2.06-.94 2.06-2.06.94zm-11 1L8.5 8.5l.94-2.06 2.06-.94-2.06-.94L8.5 2.5l-.94 2.06-2.06.94zm10 10l.94 2.06.94-2.06 2.06-.94-2.06-.94-.94-2.06-.94 2.06-2.06.94z\"/><path d=\"M17.41 7.96l-1.37-1.37c-.4-.4-.92-.59-1.43-.59-.52 0-1.04.2-1.43.59L10.3 9.45l-7.72 7.72c-.78.78-.78 2.05 0 2.83L4 21.41c.39.39.9.59 1.41.59.51 0 1.02-.2 1.41-.59l7.78-7.78 2.81-2.81c.8-.78.8-2.07 0-2.86zM5.41 20L4 18.59l7.72-7.72 1.47 1.35L5.41 20z\"/>\n",
              "  </svg>\n",
              "      </button>\n",
              "      \n",
              "  <style>\n",
              "    .colab-df-container {\n",
              "      display:flex;\n",
              "      flex-wrap:wrap;\n",
              "      gap: 12px;\n",
              "    }\n",
              "\n",
              "    .colab-df-convert {\n",
              "      background-color: #E8F0FE;\n",
              "      border: none;\n",
              "      border-radius: 50%;\n",
              "      cursor: pointer;\n",
              "      display: none;\n",
              "      fill: #1967D2;\n",
              "      height: 32px;\n",
              "      padding: 0 0 0 0;\n",
              "      width: 32px;\n",
              "    }\n",
              "\n",
              "    .colab-df-convert:hover {\n",
              "      background-color: #E2EBFA;\n",
              "      box-shadow: 0px 1px 2px rgba(60, 64, 67, 0.3), 0px 1px 3px 1px rgba(60, 64, 67, 0.15);\n",
              "      fill: #174EA6;\n",
              "    }\n",
              "\n",
              "    [theme=dark] .colab-df-convert {\n",
              "      background-color: #3B4455;\n",
              "      fill: #D2E3FC;\n",
              "    }\n",
              "\n",
              "    [theme=dark] .colab-df-convert:hover {\n",
              "      background-color: #434B5C;\n",
              "      box-shadow: 0px 1px 3px 1px rgba(0, 0, 0, 0.15);\n",
              "      filter: drop-shadow(0px 1px 2px rgba(0, 0, 0, 0.3));\n",
              "      fill: #FFFFFF;\n",
              "    }\n",
              "  </style>\n",
              "\n",
              "      <script>\n",
              "        const buttonEl =\n",
              "          document.querySelector('#df-166574c6-b2c3-49d7-8959-30a15403163f button.colab-df-convert');\n",
              "        buttonEl.style.display =\n",
              "          google.colab.kernel.accessAllowed ? 'block' : 'none';\n",
              "\n",
              "        async function convertToInteractive(key) {\n",
              "          const element = document.querySelector('#df-166574c6-b2c3-49d7-8959-30a15403163f');\n",
              "          const dataTable =\n",
              "            await google.colab.kernel.invokeFunction('convertToInteractive',\n",
              "                                                     [key], {});\n",
              "          if (!dataTable) return;\n",
              "\n",
              "          const docLinkHtml = 'Like what you see? Visit the ' +\n",
              "            '<a target=\"_blank\" href=https://colab.research.google.com/notebooks/data_table.ipynb>data table notebook</a>'\n",
              "            + ' to learn more about interactive tables.';\n",
              "          element.innerHTML = '';\n",
              "          dataTable['output_type'] = 'display_data';\n",
              "          await google.colab.output.renderOutput(dataTable, element);\n",
              "          const docLink = document.createElement('div');\n",
              "          docLink.innerHTML = docLinkHtml;\n",
              "          element.appendChild(docLink);\n",
              "        }\n",
              "      </script>\n",
              "    </div>\n",
              "  </div>\n",
              "  "
            ]
          },
          "metadata": {},
          "execution_count": 18
        }
      ]
    },
    {
      "cell_type": "code",
      "source": [
        "df_ext_3.columns = [\"content\", \"label\"]"
      ],
      "metadata": {
        "id": "G9OTc8C_564o"
      },
      "id": "G9OTc8C_564o",
      "execution_count": null,
      "outputs": []
    },
    {
      "cell_type": "code",
      "source": [
        "df_ext_3 = df_ext_3[df_ext_3[\"label\"] != \"neutral\"]"
      ],
      "metadata": {
        "id": "_2bbEIdM6Ccm"
      },
      "id": "_2bbEIdM6Ccm",
      "execution_count": null,
      "outputs": []
    },
    {
      "cell_type": "code",
      "source": [
        "df_ext_3"
      ],
      "metadata": {
        "id": "I5m4o_xK61oC",
        "colab": {
          "base_uri": "https://localhost:8080/",
          "height": 424
        },
        "outputId": "7d053283-b08c-419b-ff38-72f2a6383417"
      },
      "id": "I5m4o_xK61oC",
      "execution_count": null,
      "outputs": [
        {
          "output_type": "execute_result",
          "data": {
            "text/plain": [
              "                                                 content     label\n",
              "0      warung ini dimiliki oleh pengusaha pabrik tahu...  positive\n",
              "2      lokasi strategis di jalan sumatera bandung . t...  positive\n",
              "3      betapa bahagia nya diri ini saat unboxing pake...  positive\n",
              "4      duh . jadi mahasiswa jangan sombong dong . kas...  negative\n",
              "5      makanan beragam , harga makanan di food stall ...  positive\n",
              "...                                                  ...       ...\n",
              "10994                                        tidak bosan  positive\n",
              "10995                                       tidak kecewa  positive\n",
              "10996  enak rasa masakan nya apalagi kepiting yang me...  positive\n",
              "10998  pagi pagi di tol pasteur sudah macet parah , b...  negative\n",
              "10999  meskipun sering belanja ke yogya di riau junct...  positive\n",
              "\n",
              "[9852 rows x 2 columns]"
            ],
            "text/html": [
              "\n",
              "  <div id=\"df-a14cf3e1-2a0c-4a72-91c3-32bec75d6720\">\n",
              "    <div class=\"colab-df-container\">\n",
              "      <div>\n",
              "<style scoped>\n",
              "    .dataframe tbody tr th:only-of-type {\n",
              "        vertical-align: middle;\n",
              "    }\n",
              "\n",
              "    .dataframe tbody tr th {\n",
              "        vertical-align: top;\n",
              "    }\n",
              "\n",
              "    .dataframe thead th {\n",
              "        text-align: right;\n",
              "    }\n",
              "</style>\n",
              "<table border=\"1\" class=\"dataframe\">\n",
              "  <thead>\n",
              "    <tr style=\"text-align: right;\">\n",
              "      <th></th>\n",
              "      <th>content</th>\n",
              "      <th>label</th>\n",
              "    </tr>\n",
              "  </thead>\n",
              "  <tbody>\n",
              "    <tr>\n",
              "      <th>0</th>\n",
              "      <td>warung ini dimiliki oleh pengusaha pabrik tahu...</td>\n",
              "      <td>positive</td>\n",
              "    </tr>\n",
              "    <tr>\n",
              "      <th>2</th>\n",
              "      <td>lokasi strategis di jalan sumatera bandung . t...</td>\n",
              "      <td>positive</td>\n",
              "    </tr>\n",
              "    <tr>\n",
              "      <th>3</th>\n",
              "      <td>betapa bahagia nya diri ini saat unboxing pake...</td>\n",
              "      <td>positive</td>\n",
              "    </tr>\n",
              "    <tr>\n",
              "      <th>4</th>\n",
              "      <td>duh . jadi mahasiswa jangan sombong dong . kas...</td>\n",
              "      <td>negative</td>\n",
              "    </tr>\n",
              "    <tr>\n",
              "      <th>5</th>\n",
              "      <td>makanan beragam , harga makanan di food stall ...</td>\n",
              "      <td>positive</td>\n",
              "    </tr>\n",
              "    <tr>\n",
              "      <th>...</th>\n",
              "      <td>...</td>\n",
              "      <td>...</td>\n",
              "    </tr>\n",
              "    <tr>\n",
              "      <th>10994</th>\n",
              "      <td>tidak bosan</td>\n",
              "      <td>positive</td>\n",
              "    </tr>\n",
              "    <tr>\n",
              "      <th>10995</th>\n",
              "      <td>tidak kecewa</td>\n",
              "      <td>positive</td>\n",
              "    </tr>\n",
              "    <tr>\n",
              "      <th>10996</th>\n",
              "      <td>enak rasa masakan nya apalagi kepiting yang me...</td>\n",
              "      <td>positive</td>\n",
              "    </tr>\n",
              "    <tr>\n",
              "      <th>10998</th>\n",
              "      <td>pagi pagi di tol pasteur sudah macet parah , b...</td>\n",
              "      <td>negative</td>\n",
              "    </tr>\n",
              "    <tr>\n",
              "      <th>10999</th>\n",
              "      <td>meskipun sering belanja ke yogya di riau junct...</td>\n",
              "      <td>positive</td>\n",
              "    </tr>\n",
              "  </tbody>\n",
              "</table>\n",
              "<p>9852 rows × 2 columns</p>\n",
              "</div>\n",
              "      <button class=\"colab-df-convert\" onclick=\"convertToInteractive('df-a14cf3e1-2a0c-4a72-91c3-32bec75d6720')\"\n",
              "              title=\"Convert this dataframe to an interactive table.\"\n",
              "              style=\"display:none;\">\n",
              "        \n",
              "  <svg xmlns=\"http://www.w3.org/2000/svg\" height=\"24px\"viewBox=\"0 0 24 24\"\n",
              "       width=\"24px\">\n",
              "    <path d=\"M0 0h24v24H0V0z\" fill=\"none\"/>\n",
              "    <path d=\"M18.56 5.44l.94 2.06.94-2.06 2.06-.94-2.06-.94-.94-2.06-.94 2.06-2.06.94zm-11 1L8.5 8.5l.94-2.06 2.06-.94-2.06-.94L8.5 2.5l-.94 2.06-2.06.94zm10 10l.94 2.06.94-2.06 2.06-.94-2.06-.94-.94-2.06-.94 2.06-2.06.94z\"/><path d=\"M17.41 7.96l-1.37-1.37c-.4-.4-.92-.59-1.43-.59-.52 0-1.04.2-1.43.59L10.3 9.45l-7.72 7.72c-.78.78-.78 2.05 0 2.83L4 21.41c.39.39.9.59 1.41.59.51 0 1.02-.2 1.41-.59l7.78-7.78 2.81-2.81c.8-.78.8-2.07 0-2.86zM5.41 20L4 18.59l7.72-7.72 1.47 1.35L5.41 20z\"/>\n",
              "  </svg>\n",
              "      </button>\n",
              "      \n",
              "  <style>\n",
              "    .colab-df-container {\n",
              "      display:flex;\n",
              "      flex-wrap:wrap;\n",
              "      gap: 12px;\n",
              "    }\n",
              "\n",
              "    .colab-df-convert {\n",
              "      background-color: #E8F0FE;\n",
              "      border: none;\n",
              "      border-radius: 50%;\n",
              "      cursor: pointer;\n",
              "      display: none;\n",
              "      fill: #1967D2;\n",
              "      height: 32px;\n",
              "      padding: 0 0 0 0;\n",
              "      width: 32px;\n",
              "    }\n",
              "\n",
              "    .colab-df-convert:hover {\n",
              "      background-color: #E2EBFA;\n",
              "      box-shadow: 0px 1px 2px rgba(60, 64, 67, 0.3), 0px 1px 3px 1px rgba(60, 64, 67, 0.15);\n",
              "      fill: #174EA6;\n",
              "    }\n",
              "\n",
              "    [theme=dark] .colab-df-convert {\n",
              "      background-color: #3B4455;\n",
              "      fill: #D2E3FC;\n",
              "    }\n",
              "\n",
              "    [theme=dark] .colab-df-convert:hover {\n",
              "      background-color: #434B5C;\n",
              "      box-shadow: 0px 1px 3px 1px rgba(0, 0, 0, 0.15);\n",
              "      filter: drop-shadow(0px 1px 2px rgba(0, 0, 0, 0.3));\n",
              "      fill: #FFFFFF;\n",
              "    }\n",
              "  </style>\n",
              "\n",
              "      <script>\n",
              "        const buttonEl =\n",
              "          document.querySelector('#df-a14cf3e1-2a0c-4a72-91c3-32bec75d6720 button.colab-df-convert');\n",
              "        buttonEl.style.display =\n",
              "          google.colab.kernel.accessAllowed ? 'block' : 'none';\n",
              "\n",
              "        async function convertToInteractive(key) {\n",
              "          const element = document.querySelector('#df-a14cf3e1-2a0c-4a72-91c3-32bec75d6720');\n",
              "          const dataTable =\n",
              "            await google.colab.kernel.invokeFunction('convertToInteractive',\n",
              "                                                     [key], {});\n",
              "          if (!dataTable) return;\n",
              "\n",
              "          const docLinkHtml = 'Like what you see? Visit the ' +\n",
              "            '<a target=\"_blank\" href=https://colab.research.google.com/notebooks/data_table.ipynb>data table notebook</a>'\n",
              "            + ' to learn more about interactive tables.';\n",
              "          element.innerHTML = '';\n",
              "          dataTable['output_type'] = 'display_data';\n",
              "          await google.colab.output.renderOutput(dataTable, element);\n",
              "          const docLink = document.createElement('div');\n",
              "          docLink.innerHTML = docLinkHtml;\n",
              "          element.appendChild(docLink);\n",
              "        }\n",
              "      </script>\n",
              "    </div>\n",
              "  </div>\n",
              "  "
            ]
          },
          "metadata": {},
          "execution_count": 21
        }
      ]
    },
    {
      "cell_type": "code",
      "execution_count": null,
      "metadata": {
        "id": "5a8ec31c"
      },
      "outputs": [],
      "source": [
        "df = df.iloc[0:83, :]"
      ],
      "id": "5a8ec31c"
    },
    {
      "cell_type": "code",
      "execution_count": null,
      "metadata": {
        "id": "e28ab937"
      },
      "outputs": [],
      "source": [
        "label_dict = {'up':'up', 'down':'down'}\n",
        "df['label'] = df['label'].map(label_dict)"
      ],
      "id": "e28ab937"
    },
    {
      "cell_type": "code",
      "source": [
        "df_ext_3"
      ],
      "metadata": {
        "id": "LJOpn1e66fMt",
        "colab": {
          "base_uri": "https://localhost:8080/",
          "height": 424
        },
        "outputId": "5d2e339e-1669-43e7-d41a-7a94938b9406"
      },
      "id": "LJOpn1e66fMt",
      "execution_count": null,
      "outputs": [
        {
          "output_type": "execute_result",
          "data": {
            "text/plain": [
              "                                                 content     label\n",
              "0      warung ini dimiliki oleh pengusaha pabrik tahu...  positive\n",
              "2      lokasi strategis di jalan sumatera bandung . t...  positive\n",
              "3      betapa bahagia nya diri ini saat unboxing pake...  positive\n",
              "4      duh . jadi mahasiswa jangan sombong dong . kas...  negative\n",
              "5      makanan beragam , harga makanan di food stall ...  positive\n",
              "...                                                  ...       ...\n",
              "10994                                        tidak bosan  positive\n",
              "10995                                       tidak kecewa  positive\n",
              "10996  enak rasa masakan nya apalagi kepiting yang me...  positive\n",
              "10998  pagi pagi di tol pasteur sudah macet parah , b...  negative\n",
              "10999  meskipun sering belanja ke yogya di riau junct...  positive\n",
              "\n",
              "[9852 rows x 2 columns]"
            ],
            "text/html": [
              "\n",
              "  <div id=\"df-7126e503-8b52-415c-99fa-ce858ac51bdb\">\n",
              "    <div class=\"colab-df-container\">\n",
              "      <div>\n",
              "<style scoped>\n",
              "    .dataframe tbody tr th:only-of-type {\n",
              "        vertical-align: middle;\n",
              "    }\n",
              "\n",
              "    .dataframe tbody tr th {\n",
              "        vertical-align: top;\n",
              "    }\n",
              "\n",
              "    .dataframe thead th {\n",
              "        text-align: right;\n",
              "    }\n",
              "</style>\n",
              "<table border=\"1\" class=\"dataframe\">\n",
              "  <thead>\n",
              "    <tr style=\"text-align: right;\">\n",
              "      <th></th>\n",
              "      <th>content</th>\n",
              "      <th>label</th>\n",
              "    </tr>\n",
              "  </thead>\n",
              "  <tbody>\n",
              "    <tr>\n",
              "      <th>0</th>\n",
              "      <td>warung ini dimiliki oleh pengusaha pabrik tahu...</td>\n",
              "      <td>positive</td>\n",
              "    </tr>\n",
              "    <tr>\n",
              "      <th>2</th>\n",
              "      <td>lokasi strategis di jalan sumatera bandung . t...</td>\n",
              "      <td>positive</td>\n",
              "    </tr>\n",
              "    <tr>\n",
              "      <th>3</th>\n",
              "      <td>betapa bahagia nya diri ini saat unboxing pake...</td>\n",
              "      <td>positive</td>\n",
              "    </tr>\n",
              "    <tr>\n",
              "      <th>4</th>\n",
              "      <td>duh . jadi mahasiswa jangan sombong dong . kas...</td>\n",
              "      <td>negative</td>\n",
              "    </tr>\n",
              "    <tr>\n",
              "      <th>5</th>\n",
              "      <td>makanan beragam , harga makanan di food stall ...</td>\n",
              "      <td>positive</td>\n",
              "    </tr>\n",
              "    <tr>\n",
              "      <th>...</th>\n",
              "      <td>...</td>\n",
              "      <td>...</td>\n",
              "    </tr>\n",
              "    <tr>\n",
              "      <th>10994</th>\n",
              "      <td>tidak bosan</td>\n",
              "      <td>positive</td>\n",
              "    </tr>\n",
              "    <tr>\n",
              "      <th>10995</th>\n",
              "      <td>tidak kecewa</td>\n",
              "      <td>positive</td>\n",
              "    </tr>\n",
              "    <tr>\n",
              "      <th>10996</th>\n",
              "      <td>enak rasa masakan nya apalagi kepiting yang me...</td>\n",
              "      <td>positive</td>\n",
              "    </tr>\n",
              "    <tr>\n",
              "      <th>10998</th>\n",
              "      <td>pagi pagi di tol pasteur sudah macet parah , b...</td>\n",
              "      <td>negative</td>\n",
              "    </tr>\n",
              "    <tr>\n",
              "      <th>10999</th>\n",
              "      <td>meskipun sering belanja ke yogya di riau junct...</td>\n",
              "      <td>positive</td>\n",
              "    </tr>\n",
              "  </tbody>\n",
              "</table>\n",
              "<p>9852 rows × 2 columns</p>\n",
              "</div>\n",
              "      <button class=\"colab-df-convert\" onclick=\"convertToInteractive('df-7126e503-8b52-415c-99fa-ce858ac51bdb')\"\n",
              "              title=\"Convert this dataframe to an interactive table.\"\n",
              "              style=\"display:none;\">\n",
              "        \n",
              "  <svg xmlns=\"http://www.w3.org/2000/svg\" height=\"24px\"viewBox=\"0 0 24 24\"\n",
              "       width=\"24px\">\n",
              "    <path d=\"M0 0h24v24H0V0z\" fill=\"none\"/>\n",
              "    <path d=\"M18.56 5.44l.94 2.06.94-2.06 2.06-.94-2.06-.94-.94-2.06-.94 2.06-2.06.94zm-11 1L8.5 8.5l.94-2.06 2.06-.94-2.06-.94L8.5 2.5l-.94 2.06-2.06.94zm10 10l.94 2.06.94-2.06 2.06-.94-2.06-.94-.94-2.06-.94 2.06-2.06.94z\"/><path d=\"M17.41 7.96l-1.37-1.37c-.4-.4-.92-.59-1.43-.59-.52 0-1.04.2-1.43.59L10.3 9.45l-7.72 7.72c-.78.78-.78 2.05 0 2.83L4 21.41c.39.39.9.59 1.41.59.51 0 1.02-.2 1.41-.59l7.78-7.78 2.81-2.81c.8-.78.8-2.07 0-2.86zM5.41 20L4 18.59l7.72-7.72 1.47 1.35L5.41 20z\"/>\n",
              "  </svg>\n",
              "      </button>\n",
              "      \n",
              "  <style>\n",
              "    .colab-df-container {\n",
              "      display:flex;\n",
              "      flex-wrap:wrap;\n",
              "      gap: 12px;\n",
              "    }\n",
              "\n",
              "    .colab-df-convert {\n",
              "      background-color: #E8F0FE;\n",
              "      border: none;\n",
              "      border-radius: 50%;\n",
              "      cursor: pointer;\n",
              "      display: none;\n",
              "      fill: #1967D2;\n",
              "      height: 32px;\n",
              "      padding: 0 0 0 0;\n",
              "      width: 32px;\n",
              "    }\n",
              "\n",
              "    .colab-df-convert:hover {\n",
              "      background-color: #E2EBFA;\n",
              "      box-shadow: 0px 1px 2px rgba(60, 64, 67, 0.3), 0px 1px 3px 1px rgba(60, 64, 67, 0.15);\n",
              "      fill: #174EA6;\n",
              "    }\n",
              "\n",
              "    [theme=dark] .colab-df-convert {\n",
              "      background-color: #3B4455;\n",
              "      fill: #D2E3FC;\n",
              "    }\n",
              "\n",
              "    [theme=dark] .colab-df-convert:hover {\n",
              "      background-color: #434B5C;\n",
              "      box-shadow: 0px 1px 3px 1px rgba(0, 0, 0, 0.15);\n",
              "      filter: drop-shadow(0px 1px 2px rgba(0, 0, 0, 0.3));\n",
              "      fill: #FFFFFF;\n",
              "    }\n",
              "  </style>\n",
              "\n",
              "      <script>\n",
              "        const buttonEl =\n",
              "          document.querySelector('#df-7126e503-8b52-415c-99fa-ce858ac51bdb button.colab-df-convert');\n",
              "        buttonEl.style.display =\n",
              "          google.colab.kernel.accessAllowed ? 'block' : 'none';\n",
              "\n",
              "        async function convertToInteractive(key) {\n",
              "          const element = document.querySelector('#df-7126e503-8b52-415c-99fa-ce858ac51bdb');\n",
              "          const dataTable =\n",
              "            await google.colab.kernel.invokeFunction('convertToInteractive',\n",
              "                                                     [key], {});\n",
              "          if (!dataTable) return;\n",
              "\n",
              "          const docLinkHtml = 'Like what you see? Visit the ' +\n",
              "            '<a target=\"_blank\" href=https://colab.research.google.com/notebooks/data_table.ipynb>data table notebook</a>'\n",
              "            + ' to learn more about interactive tables.';\n",
              "          element.innerHTML = '';\n",
              "          dataTable['output_type'] = 'display_data';\n",
              "          await google.colab.output.renderOutput(dataTable, element);\n",
              "          const docLink = document.createElement('div');\n",
              "          docLink.innerHTML = docLinkHtml;\n",
              "          element.appendChild(docLink);\n",
              "        }\n",
              "      </script>\n",
              "    </div>\n",
              "  </div>\n",
              "  "
            ]
          },
          "metadata": {},
          "execution_count": 24
        }
      ]
    },
    {
      "cell_type": "code",
      "source": [
        " label_dict = {'positive':'up', 'negative':'down'}\n",
        "\n",
        " df_ext_3['label'].map(label_dict)"
      ],
      "metadata": {
        "id": "NOXQv8hK67r-",
        "colab": {
          "base_uri": "https://localhost:8080/"
        },
        "outputId": "e3eea186-f1da-4f2c-a6aa-3798505b601a"
      },
      "id": "NOXQv8hK67r-",
      "execution_count": null,
      "outputs": [
        {
          "output_type": "execute_result",
          "data": {
            "text/plain": [
              "0          up\n",
              "2          up\n",
              "3          up\n",
              "4        down\n",
              "5          up\n",
              "         ... \n",
              "10994      up\n",
              "10995      up\n",
              "10996      up\n",
              "10998    down\n",
              "10999      up\n",
              "Name: label, Length: 9852, dtype: object"
            ]
          },
          "metadata": {},
          "execution_count": 25
        }
      ]
    },
    {
      "cell_type": "code",
      "source": [
        "df_ext_3['label']"
      ],
      "metadata": {
        "id": "v0SWNe2p6-mM",
        "colab": {
          "base_uri": "https://localhost:8080/"
        },
        "outputId": "fca68fc3-734e-498a-81a2-3f96ee78a97e"
      },
      "id": "v0SWNe2p6-mM",
      "execution_count": null,
      "outputs": [
        {
          "output_type": "execute_result",
          "data": {
            "text/plain": [
              "0        positive\n",
              "2        positive\n",
              "3        positive\n",
              "4        negative\n",
              "5        positive\n",
              "           ...   \n",
              "10994    positive\n",
              "10995    positive\n",
              "10996    positive\n",
              "10998    negative\n",
              "10999    positive\n",
              "Name: label, Length: 9852, dtype: object"
            ]
          },
          "metadata": {},
          "execution_count": 26
        }
      ]
    },
    {
      "cell_type": "code",
      "source": [
        "label_dict = {'positive':'up', 'negative':'down'}\n",
        "\n",
        "df_ext_3['label'] = df_ext_3['label'].map(label_dict)"
      ],
      "metadata": {
        "id": "hc5-zwt_6LO7"
      },
      "id": "hc5-zwt_6LO7",
      "execution_count": null,
      "outputs": []
    },
    {
      "cell_type": "code",
      "source": [
        "df_ext_3"
      ],
      "metadata": {
        "id": "aJZTVc9c6k4L",
        "colab": {
          "base_uri": "https://localhost:8080/",
          "height": 424
        },
        "outputId": "8005e3cb-87b7-4ec8-b975-6aa8ed464c8d"
      },
      "id": "aJZTVc9c6k4L",
      "execution_count": null,
      "outputs": [
        {
          "output_type": "execute_result",
          "data": {
            "text/plain": [
              "                                                 content label\n",
              "0      warung ini dimiliki oleh pengusaha pabrik tahu...    up\n",
              "2      lokasi strategis di jalan sumatera bandung . t...    up\n",
              "3      betapa bahagia nya diri ini saat unboxing pake...    up\n",
              "4      duh . jadi mahasiswa jangan sombong dong . kas...  down\n",
              "5      makanan beragam , harga makanan di food stall ...    up\n",
              "...                                                  ...   ...\n",
              "10994                                        tidak bosan    up\n",
              "10995                                       tidak kecewa    up\n",
              "10996  enak rasa masakan nya apalagi kepiting yang me...    up\n",
              "10998  pagi pagi di tol pasteur sudah macet parah , b...  down\n",
              "10999  meskipun sering belanja ke yogya di riau junct...    up\n",
              "\n",
              "[9852 rows x 2 columns]"
            ],
            "text/html": [
              "\n",
              "  <div id=\"df-c765a35d-b323-4d5c-84df-65df72e964bf\">\n",
              "    <div class=\"colab-df-container\">\n",
              "      <div>\n",
              "<style scoped>\n",
              "    .dataframe tbody tr th:only-of-type {\n",
              "        vertical-align: middle;\n",
              "    }\n",
              "\n",
              "    .dataframe tbody tr th {\n",
              "        vertical-align: top;\n",
              "    }\n",
              "\n",
              "    .dataframe thead th {\n",
              "        text-align: right;\n",
              "    }\n",
              "</style>\n",
              "<table border=\"1\" class=\"dataframe\">\n",
              "  <thead>\n",
              "    <tr style=\"text-align: right;\">\n",
              "      <th></th>\n",
              "      <th>content</th>\n",
              "      <th>label</th>\n",
              "    </tr>\n",
              "  </thead>\n",
              "  <tbody>\n",
              "    <tr>\n",
              "      <th>0</th>\n",
              "      <td>warung ini dimiliki oleh pengusaha pabrik tahu...</td>\n",
              "      <td>up</td>\n",
              "    </tr>\n",
              "    <tr>\n",
              "      <th>2</th>\n",
              "      <td>lokasi strategis di jalan sumatera bandung . t...</td>\n",
              "      <td>up</td>\n",
              "    </tr>\n",
              "    <tr>\n",
              "      <th>3</th>\n",
              "      <td>betapa bahagia nya diri ini saat unboxing pake...</td>\n",
              "      <td>up</td>\n",
              "    </tr>\n",
              "    <tr>\n",
              "      <th>4</th>\n",
              "      <td>duh . jadi mahasiswa jangan sombong dong . kas...</td>\n",
              "      <td>down</td>\n",
              "    </tr>\n",
              "    <tr>\n",
              "      <th>5</th>\n",
              "      <td>makanan beragam , harga makanan di food stall ...</td>\n",
              "      <td>up</td>\n",
              "    </tr>\n",
              "    <tr>\n",
              "      <th>...</th>\n",
              "      <td>...</td>\n",
              "      <td>...</td>\n",
              "    </tr>\n",
              "    <tr>\n",
              "      <th>10994</th>\n",
              "      <td>tidak bosan</td>\n",
              "      <td>up</td>\n",
              "    </tr>\n",
              "    <tr>\n",
              "      <th>10995</th>\n",
              "      <td>tidak kecewa</td>\n",
              "      <td>up</td>\n",
              "    </tr>\n",
              "    <tr>\n",
              "      <th>10996</th>\n",
              "      <td>enak rasa masakan nya apalagi kepiting yang me...</td>\n",
              "      <td>up</td>\n",
              "    </tr>\n",
              "    <tr>\n",
              "      <th>10998</th>\n",
              "      <td>pagi pagi di tol pasteur sudah macet parah , b...</td>\n",
              "      <td>down</td>\n",
              "    </tr>\n",
              "    <tr>\n",
              "      <th>10999</th>\n",
              "      <td>meskipun sering belanja ke yogya di riau junct...</td>\n",
              "      <td>up</td>\n",
              "    </tr>\n",
              "  </tbody>\n",
              "</table>\n",
              "<p>9852 rows × 2 columns</p>\n",
              "</div>\n",
              "      <button class=\"colab-df-convert\" onclick=\"convertToInteractive('df-c765a35d-b323-4d5c-84df-65df72e964bf')\"\n",
              "              title=\"Convert this dataframe to an interactive table.\"\n",
              "              style=\"display:none;\">\n",
              "        \n",
              "  <svg xmlns=\"http://www.w3.org/2000/svg\" height=\"24px\"viewBox=\"0 0 24 24\"\n",
              "       width=\"24px\">\n",
              "    <path d=\"M0 0h24v24H0V0z\" fill=\"none\"/>\n",
              "    <path d=\"M18.56 5.44l.94 2.06.94-2.06 2.06-.94-2.06-.94-.94-2.06-.94 2.06-2.06.94zm-11 1L8.5 8.5l.94-2.06 2.06-.94-2.06-.94L8.5 2.5l-.94 2.06-2.06.94zm10 10l.94 2.06.94-2.06 2.06-.94-2.06-.94-.94-2.06-.94 2.06-2.06.94z\"/><path d=\"M17.41 7.96l-1.37-1.37c-.4-.4-.92-.59-1.43-.59-.52 0-1.04.2-1.43.59L10.3 9.45l-7.72 7.72c-.78.78-.78 2.05 0 2.83L4 21.41c.39.39.9.59 1.41.59.51 0 1.02-.2 1.41-.59l7.78-7.78 2.81-2.81c.8-.78.8-2.07 0-2.86zM5.41 20L4 18.59l7.72-7.72 1.47 1.35L5.41 20z\"/>\n",
              "  </svg>\n",
              "      </button>\n",
              "      \n",
              "  <style>\n",
              "    .colab-df-container {\n",
              "      display:flex;\n",
              "      flex-wrap:wrap;\n",
              "      gap: 12px;\n",
              "    }\n",
              "\n",
              "    .colab-df-convert {\n",
              "      background-color: #E8F0FE;\n",
              "      border: none;\n",
              "      border-radius: 50%;\n",
              "      cursor: pointer;\n",
              "      display: none;\n",
              "      fill: #1967D2;\n",
              "      height: 32px;\n",
              "      padding: 0 0 0 0;\n",
              "      width: 32px;\n",
              "    }\n",
              "\n",
              "    .colab-df-convert:hover {\n",
              "      background-color: #E2EBFA;\n",
              "      box-shadow: 0px 1px 2px rgba(60, 64, 67, 0.3), 0px 1px 3px 1px rgba(60, 64, 67, 0.15);\n",
              "      fill: #174EA6;\n",
              "    }\n",
              "\n",
              "    [theme=dark] .colab-df-convert {\n",
              "      background-color: #3B4455;\n",
              "      fill: #D2E3FC;\n",
              "    }\n",
              "\n",
              "    [theme=dark] .colab-df-convert:hover {\n",
              "      background-color: #434B5C;\n",
              "      box-shadow: 0px 1px 3px 1px rgba(0, 0, 0, 0.15);\n",
              "      filter: drop-shadow(0px 1px 2px rgba(0, 0, 0, 0.3));\n",
              "      fill: #FFFFFF;\n",
              "    }\n",
              "  </style>\n",
              "\n",
              "      <script>\n",
              "        const buttonEl =\n",
              "          document.querySelector('#df-c765a35d-b323-4d5c-84df-65df72e964bf button.colab-df-convert');\n",
              "        buttonEl.style.display =\n",
              "          google.colab.kernel.accessAllowed ? 'block' : 'none';\n",
              "\n",
              "        async function convertToInteractive(key) {\n",
              "          const element = document.querySelector('#df-c765a35d-b323-4d5c-84df-65df72e964bf');\n",
              "          const dataTable =\n",
              "            await google.colab.kernel.invokeFunction('convertToInteractive',\n",
              "                                                     [key], {});\n",
              "          if (!dataTable) return;\n",
              "\n",
              "          const docLinkHtml = 'Like what you see? Visit the ' +\n",
              "            '<a target=\"_blank\" href=https://colab.research.google.com/notebooks/data_table.ipynb>data table notebook</a>'\n",
              "            + ' to learn more about interactive tables.';\n",
              "          element.innerHTML = '';\n",
              "          dataTable['output_type'] = 'display_data';\n",
              "          await google.colab.output.renderOutput(dataTable, element);\n",
              "          const docLink = document.createElement('div');\n",
              "          docLink.innerHTML = docLinkHtml;\n",
              "          element.appendChild(docLink);\n",
              "        }\n",
              "      </script>\n",
              "    </div>\n",
              "  </div>\n",
              "  "
            ]
          },
          "metadata": {},
          "execution_count": 28
        }
      ]
    },
    {
      "cell_type": "code",
      "source": [
        "df.head()"
      ],
      "metadata": {
        "id": "I0gdtRSIjVpu",
        "colab": {
          "base_uri": "https://localhost:8080/",
          "height": 206
        },
        "outputId": "12d64557-7aa3-4ac7-9edf-b9dbca5884f0"
      },
      "id": "I0gdtRSIjVpu",
      "execution_count": null,
      "outputs": [
        {
          "output_type": "execute_result",
          "data": {
            "text/plain": [
              "  label                                            content\n",
              "0    up  Santa Claus Rally menurut Investopedia pada Ju...\n",
              "1    up  PT Perusahaan Perdagangan Indonesia (Persero) ...\n",
              "2  down  Ekonomi bali terkontraksi selama pandemi salah...\n",
              "3  down  Oke kita mulai dari yang masih hangat di perbi...\n",
              "4  down  Kegiatan ekspor batu bara resmi dilarang oleh ..."
            ],
            "text/html": [
              "\n",
              "  <div id=\"df-250b4883-7ef4-4a25-a26a-7d84fb0456e3\">\n",
              "    <div class=\"colab-df-container\">\n",
              "      <div>\n",
              "<style scoped>\n",
              "    .dataframe tbody tr th:only-of-type {\n",
              "        vertical-align: middle;\n",
              "    }\n",
              "\n",
              "    .dataframe tbody tr th {\n",
              "        vertical-align: top;\n",
              "    }\n",
              "\n",
              "    .dataframe thead th {\n",
              "        text-align: right;\n",
              "    }\n",
              "</style>\n",
              "<table border=\"1\" class=\"dataframe\">\n",
              "  <thead>\n",
              "    <tr style=\"text-align: right;\">\n",
              "      <th></th>\n",
              "      <th>label</th>\n",
              "      <th>content</th>\n",
              "    </tr>\n",
              "  </thead>\n",
              "  <tbody>\n",
              "    <tr>\n",
              "      <th>0</th>\n",
              "      <td>up</td>\n",
              "      <td>Santa Claus Rally menurut Investopedia pada Ju...</td>\n",
              "    </tr>\n",
              "    <tr>\n",
              "      <th>1</th>\n",
              "      <td>up</td>\n",
              "      <td>PT Perusahaan Perdagangan Indonesia (Persero) ...</td>\n",
              "    </tr>\n",
              "    <tr>\n",
              "      <th>2</th>\n",
              "      <td>down</td>\n",
              "      <td>Ekonomi bali terkontraksi selama pandemi salah...</td>\n",
              "    </tr>\n",
              "    <tr>\n",
              "      <th>3</th>\n",
              "      <td>down</td>\n",
              "      <td>Oke kita mulai dari yang masih hangat di perbi...</td>\n",
              "    </tr>\n",
              "    <tr>\n",
              "      <th>4</th>\n",
              "      <td>down</td>\n",
              "      <td>Kegiatan ekspor batu bara resmi dilarang oleh ...</td>\n",
              "    </tr>\n",
              "  </tbody>\n",
              "</table>\n",
              "</div>\n",
              "      <button class=\"colab-df-convert\" onclick=\"convertToInteractive('df-250b4883-7ef4-4a25-a26a-7d84fb0456e3')\"\n",
              "              title=\"Convert this dataframe to an interactive table.\"\n",
              "              style=\"display:none;\">\n",
              "        \n",
              "  <svg xmlns=\"http://www.w3.org/2000/svg\" height=\"24px\"viewBox=\"0 0 24 24\"\n",
              "       width=\"24px\">\n",
              "    <path d=\"M0 0h24v24H0V0z\" fill=\"none\"/>\n",
              "    <path d=\"M18.56 5.44l.94 2.06.94-2.06 2.06-.94-2.06-.94-.94-2.06-.94 2.06-2.06.94zm-11 1L8.5 8.5l.94-2.06 2.06-.94-2.06-.94L8.5 2.5l-.94 2.06-2.06.94zm10 10l.94 2.06.94-2.06 2.06-.94-2.06-.94-.94-2.06-.94 2.06-2.06.94z\"/><path d=\"M17.41 7.96l-1.37-1.37c-.4-.4-.92-.59-1.43-.59-.52 0-1.04.2-1.43.59L10.3 9.45l-7.72 7.72c-.78.78-.78 2.05 0 2.83L4 21.41c.39.39.9.59 1.41.59.51 0 1.02-.2 1.41-.59l7.78-7.78 2.81-2.81c.8-.78.8-2.07 0-2.86zM5.41 20L4 18.59l7.72-7.72 1.47 1.35L5.41 20z\"/>\n",
              "  </svg>\n",
              "      </button>\n",
              "      \n",
              "  <style>\n",
              "    .colab-df-container {\n",
              "      display:flex;\n",
              "      flex-wrap:wrap;\n",
              "      gap: 12px;\n",
              "    }\n",
              "\n",
              "    .colab-df-convert {\n",
              "      background-color: #E8F0FE;\n",
              "      border: none;\n",
              "      border-radius: 50%;\n",
              "      cursor: pointer;\n",
              "      display: none;\n",
              "      fill: #1967D2;\n",
              "      height: 32px;\n",
              "      padding: 0 0 0 0;\n",
              "      width: 32px;\n",
              "    }\n",
              "\n",
              "    .colab-df-convert:hover {\n",
              "      background-color: #E2EBFA;\n",
              "      box-shadow: 0px 1px 2px rgba(60, 64, 67, 0.3), 0px 1px 3px 1px rgba(60, 64, 67, 0.15);\n",
              "      fill: #174EA6;\n",
              "    }\n",
              "\n",
              "    [theme=dark] .colab-df-convert {\n",
              "      background-color: #3B4455;\n",
              "      fill: #D2E3FC;\n",
              "    }\n",
              "\n",
              "    [theme=dark] .colab-df-convert:hover {\n",
              "      background-color: #434B5C;\n",
              "      box-shadow: 0px 1px 3px 1px rgba(0, 0, 0, 0.15);\n",
              "      filter: drop-shadow(0px 1px 2px rgba(0, 0, 0, 0.3));\n",
              "      fill: #FFFFFF;\n",
              "    }\n",
              "  </style>\n",
              "\n",
              "      <script>\n",
              "        const buttonEl =\n",
              "          document.querySelector('#df-250b4883-7ef4-4a25-a26a-7d84fb0456e3 button.colab-df-convert');\n",
              "        buttonEl.style.display =\n",
              "          google.colab.kernel.accessAllowed ? 'block' : 'none';\n",
              "\n",
              "        async function convertToInteractive(key) {\n",
              "          const element = document.querySelector('#df-250b4883-7ef4-4a25-a26a-7d84fb0456e3');\n",
              "          const dataTable =\n",
              "            await google.colab.kernel.invokeFunction('convertToInteractive',\n",
              "                                                     [key], {});\n",
              "          if (!dataTable) return;\n",
              "\n",
              "          const docLinkHtml = 'Like what you see? Visit the ' +\n",
              "            '<a target=\"_blank\" href=https://colab.research.google.com/notebooks/data_table.ipynb>data table notebook</a>'\n",
              "            + ' to learn more about interactive tables.';\n",
              "          element.innerHTML = '';\n",
              "          dataTable['output_type'] = 'display_data';\n",
              "          await google.colab.output.renderOutput(dataTable, element);\n",
              "          const docLink = document.createElement('div');\n",
              "          docLink.innerHTML = docLinkHtml;\n",
              "          element.appendChild(docLink);\n",
              "        }\n",
              "      </script>\n",
              "    </div>\n",
              "  </div>\n",
              "  "
            ]
          },
          "metadata": {},
          "execution_count": 29
        }
      ]
    },
    {
      "cell_type": "code",
      "source": [
        "df = df.append(df_ext)"
      ],
      "metadata": {
        "id": "_tlcQPl6jqjt"
      },
      "id": "_tlcQPl6jqjt",
      "execution_count": null,
      "outputs": []
    },
    {
      "cell_type": "code",
      "source": [
        "df = df.append(df_ext_2)"
      ],
      "metadata": {
        "id": "X3_am2Ct8-5M"
      },
      "id": "X3_am2Ct8-5M",
      "execution_count": null,
      "outputs": []
    },
    {
      "cell_type": "code",
      "source": [
        "df = df.append(df_ext_3)"
      ],
      "metadata": {
        "id": "oVJueE1q6SHz"
      },
      "id": "oVJueE1q6SHz",
      "execution_count": null,
      "outputs": []
    },
    {
      "cell_type": "code",
      "source": [
        "df.sample(20)"
      ],
      "metadata": {
        "id": "nnenE9ODrjtk",
        "colab": {
          "base_uri": "https://localhost:8080/",
          "height": 677
        },
        "outputId": "0ee1421f-fb98-4a00-e2ce-09d852e475e7"
      },
      "id": "nnenE9ODrjtk",
      "execution_count": null,
      "outputs": [
        {
          "output_type": "execute_result",
          "data": {
            "text/plain": [
              "      label                                            content\n",
              "420    down  belajar dari kasus setya novanto mungkin , mem...\n",
              "5733   down  kecewa sangat potong rambut di kompak sudah pe...\n",
              "150      up  yamien manis nya mirip banget dengan mi nursij...\n",
              "913    down  sudah lama dibaned , kalau pakai telkom dan te...\n",
              "5443     up  anak-anak suka di sini karena ada aktivitas ke...\n",
              "44       up  Halo teman - teman PukulEnam! Kayaknya buat te...\n",
              "1894     up  lagi di bandung makan yang berkuah yang hangat...\n",
              "10594  down  kasihan ya pak nyalon terus tapi kalah melulu ...\n",
              "439      up  Untuk membuktikan efisiensi sistem China Mobil...\n",
              "8737     up  terima kasih id buat lotteria nya ! baru saja ...\n",
              "7407     up  nyaman ! wifi ? ada ! kenapa tidak di dicoba s...\n",
              "1925     up  steak yang paling saya sukai di bandung . disa...\n",
              "10214    up  restoran unik dengan menu nasi goreng yang uni...\n",
              "8666   down  hindu anjing , kristen babi , hindu setan , kr...\n",
              "7665     up  saya beberapa kali memilih tempat ini sebagai ...\n",
              "6076     up  resto ini ramai pengunjung pada saat makan mal...\n",
              "4180     up  tempat nya nyaman tenang dan enak . bisa untuk...\n",
              "168      up  Jaringan department store Finlandia Stockmann ...\n",
              "9656     up  di herb dan spice ini letak nya di atas prima ...\n",
              "6344     up  tempat yang adem nyaman pelayanan yang ramah h..."
            ],
            "text/html": [
              "\n",
              "  <div id=\"df-ac78ed68-d297-4e86-b909-383fe30f4b51\">\n",
              "    <div class=\"colab-df-container\">\n",
              "      <div>\n",
              "<style scoped>\n",
              "    .dataframe tbody tr th:only-of-type {\n",
              "        vertical-align: middle;\n",
              "    }\n",
              "\n",
              "    .dataframe tbody tr th {\n",
              "        vertical-align: top;\n",
              "    }\n",
              "\n",
              "    .dataframe thead th {\n",
              "        text-align: right;\n",
              "    }\n",
              "</style>\n",
              "<table border=\"1\" class=\"dataframe\">\n",
              "  <thead>\n",
              "    <tr style=\"text-align: right;\">\n",
              "      <th></th>\n",
              "      <th>label</th>\n",
              "      <th>content</th>\n",
              "    </tr>\n",
              "  </thead>\n",
              "  <tbody>\n",
              "    <tr>\n",
              "      <th>420</th>\n",
              "      <td>down</td>\n",
              "      <td>belajar dari kasus setya novanto mungkin , mem...</td>\n",
              "    </tr>\n",
              "    <tr>\n",
              "      <th>5733</th>\n",
              "      <td>down</td>\n",
              "      <td>kecewa sangat potong rambut di kompak sudah pe...</td>\n",
              "    </tr>\n",
              "    <tr>\n",
              "      <th>150</th>\n",
              "      <td>up</td>\n",
              "      <td>yamien manis nya mirip banget dengan mi nursij...</td>\n",
              "    </tr>\n",
              "    <tr>\n",
              "      <th>913</th>\n",
              "      <td>down</td>\n",
              "      <td>sudah lama dibaned , kalau pakai telkom dan te...</td>\n",
              "    </tr>\n",
              "    <tr>\n",
              "      <th>5443</th>\n",
              "      <td>up</td>\n",
              "      <td>anak-anak suka di sini karena ada aktivitas ke...</td>\n",
              "    </tr>\n",
              "    <tr>\n",
              "      <th>44</th>\n",
              "      <td>up</td>\n",
              "      <td>Halo teman - teman PukulEnam! Kayaknya buat te...</td>\n",
              "    </tr>\n",
              "    <tr>\n",
              "      <th>1894</th>\n",
              "      <td>up</td>\n",
              "      <td>lagi di bandung makan yang berkuah yang hangat...</td>\n",
              "    </tr>\n",
              "    <tr>\n",
              "      <th>10594</th>\n",
              "      <td>down</td>\n",
              "      <td>kasihan ya pak nyalon terus tapi kalah melulu ...</td>\n",
              "    </tr>\n",
              "    <tr>\n",
              "      <th>439</th>\n",
              "      <td>up</td>\n",
              "      <td>Untuk membuktikan efisiensi sistem China Mobil...</td>\n",
              "    </tr>\n",
              "    <tr>\n",
              "      <th>8737</th>\n",
              "      <td>up</td>\n",
              "      <td>terima kasih id buat lotteria nya ! baru saja ...</td>\n",
              "    </tr>\n",
              "    <tr>\n",
              "      <th>7407</th>\n",
              "      <td>up</td>\n",
              "      <td>nyaman ! wifi ? ada ! kenapa tidak di dicoba s...</td>\n",
              "    </tr>\n",
              "    <tr>\n",
              "      <th>1925</th>\n",
              "      <td>up</td>\n",
              "      <td>steak yang paling saya sukai di bandung . disa...</td>\n",
              "    </tr>\n",
              "    <tr>\n",
              "      <th>10214</th>\n",
              "      <td>up</td>\n",
              "      <td>restoran unik dengan menu nasi goreng yang uni...</td>\n",
              "    </tr>\n",
              "    <tr>\n",
              "      <th>8666</th>\n",
              "      <td>down</td>\n",
              "      <td>hindu anjing , kristen babi , hindu setan , kr...</td>\n",
              "    </tr>\n",
              "    <tr>\n",
              "      <th>7665</th>\n",
              "      <td>up</td>\n",
              "      <td>saya beberapa kali memilih tempat ini sebagai ...</td>\n",
              "    </tr>\n",
              "    <tr>\n",
              "      <th>6076</th>\n",
              "      <td>up</td>\n",
              "      <td>resto ini ramai pengunjung pada saat makan mal...</td>\n",
              "    </tr>\n",
              "    <tr>\n",
              "      <th>4180</th>\n",
              "      <td>up</td>\n",
              "      <td>tempat nya nyaman tenang dan enak . bisa untuk...</td>\n",
              "    </tr>\n",
              "    <tr>\n",
              "      <th>168</th>\n",
              "      <td>up</td>\n",
              "      <td>Jaringan department store Finlandia Stockmann ...</td>\n",
              "    </tr>\n",
              "    <tr>\n",
              "      <th>9656</th>\n",
              "      <td>up</td>\n",
              "      <td>di herb dan spice ini letak nya di atas prima ...</td>\n",
              "    </tr>\n",
              "    <tr>\n",
              "      <th>6344</th>\n",
              "      <td>up</td>\n",
              "      <td>tempat yang adem nyaman pelayanan yang ramah h...</td>\n",
              "    </tr>\n",
              "  </tbody>\n",
              "</table>\n",
              "</div>\n",
              "      <button class=\"colab-df-convert\" onclick=\"convertToInteractive('df-ac78ed68-d297-4e86-b909-383fe30f4b51')\"\n",
              "              title=\"Convert this dataframe to an interactive table.\"\n",
              "              style=\"display:none;\">\n",
              "        \n",
              "  <svg xmlns=\"http://www.w3.org/2000/svg\" height=\"24px\"viewBox=\"0 0 24 24\"\n",
              "       width=\"24px\">\n",
              "    <path d=\"M0 0h24v24H0V0z\" fill=\"none\"/>\n",
              "    <path d=\"M18.56 5.44l.94 2.06.94-2.06 2.06-.94-2.06-.94-.94-2.06-.94 2.06-2.06.94zm-11 1L8.5 8.5l.94-2.06 2.06-.94-2.06-.94L8.5 2.5l-.94 2.06-2.06.94zm10 10l.94 2.06.94-2.06 2.06-.94-2.06-.94-.94-2.06-.94 2.06-2.06.94z\"/><path d=\"M17.41 7.96l-1.37-1.37c-.4-.4-.92-.59-1.43-.59-.52 0-1.04.2-1.43.59L10.3 9.45l-7.72 7.72c-.78.78-.78 2.05 0 2.83L4 21.41c.39.39.9.59 1.41.59.51 0 1.02-.2 1.41-.59l7.78-7.78 2.81-2.81c.8-.78.8-2.07 0-2.86zM5.41 20L4 18.59l7.72-7.72 1.47 1.35L5.41 20z\"/>\n",
              "  </svg>\n",
              "      </button>\n",
              "      \n",
              "  <style>\n",
              "    .colab-df-container {\n",
              "      display:flex;\n",
              "      flex-wrap:wrap;\n",
              "      gap: 12px;\n",
              "    }\n",
              "\n",
              "    .colab-df-convert {\n",
              "      background-color: #E8F0FE;\n",
              "      border: none;\n",
              "      border-radius: 50%;\n",
              "      cursor: pointer;\n",
              "      display: none;\n",
              "      fill: #1967D2;\n",
              "      height: 32px;\n",
              "      padding: 0 0 0 0;\n",
              "      width: 32px;\n",
              "    }\n",
              "\n",
              "    .colab-df-convert:hover {\n",
              "      background-color: #E2EBFA;\n",
              "      box-shadow: 0px 1px 2px rgba(60, 64, 67, 0.3), 0px 1px 3px 1px rgba(60, 64, 67, 0.15);\n",
              "      fill: #174EA6;\n",
              "    }\n",
              "\n",
              "    [theme=dark] .colab-df-convert {\n",
              "      background-color: #3B4455;\n",
              "      fill: #D2E3FC;\n",
              "    }\n",
              "\n",
              "    [theme=dark] .colab-df-convert:hover {\n",
              "      background-color: #434B5C;\n",
              "      box-shadow: 0px 1px 3px 1px rgba(0, 0, 0, 0.15);\n",
              "      filter: drop-shadow(0px 1px 2px rgba(0, 0, 0, 0.3));\n",
              "      fill: #FFFFFF;\n",
              "    }\n",
              "  </style>\n",
              "\n",
              "      <script>\n",
              "        const buttonEl =\n",
              "          document.querySelector('#df-ac78ed68-d297-4e86-b909-383fe30f4b51 button.colab-df-convert');\n",
              "        buttonEl.style.display =\n",
              "          google.colab.kernel.accessAllowed ? 'block' : 'none';\n",
              "\n",
              "        async function convertToInteractive(key) {\n",
              "          const element = document.querySelector('#df-ac78ed68-d297-4e86-b909-383fe30f4b51');\n",
              "          const dataTable =\n",
              "            await google.colab.kernel.invokeFunction('convertToInteractive',\n",
              "                                                     [key], {});\n",
              "          if (!dataTable) return;\n",
              "\n",
              "          const docLinkHtml = 'Like what you see? Visit the ' +\n",
              "            '<a target=\"_blank\" href=https://colab.research.google.com/notebooks/data_table.ipynb>data table notebook</a>'\n",
              "            + ' to learn more about interactive tables.';\n",
              "          element.innerHTML = '';\n",
              "          dataTable['output_type'] = 'display_data';\n",
              "          await google.colab.output.renderOutput(dataTable, element);\n",
              "          const docLink = document.createElement('div');\n",
              "          docLink.innerHTML = docLinkHtml;\n",
              "          element.appendChild(docLink);\n",
              "        }\n",
              "      </script>\n",
              "    </div>\n",
              "  </div>\n",
              "  "
            ]
          },
          "metadata": {},
          "execution_count": 33
        }
      ]
    },
    {
      "cell_type": "code",
      "source": [
        "df['text_length'] = df[\"content\"].str.split().str.len()"
      ],
      "metadata": {
        "id": "JbfB6jctEYud"
      },
      "id": "JbfB6jctEYud",
      "execution_count": null,
      "outputs": []
    },
    {
      "cell_type": "code",
      "source": [
        "df[\"text_length\"][:83].hist(bins=10)"
      ],
      "metadata": {
        "id": "8GwhRSeaElqa",
        "colab": {
          "base_uri": "https://localhost:8080/",
          "height": 282
        },
        "outputId": "d5b23175-347d-455b-f0f5-1ac7339b8bd2"
      },
      "id": "8GwhRSeaElqa",
      "execution_count": null,
      "outputs": [
        {
          "output_type": "execute_result",
          "data": {
            "text/plain": [
              "<matplotlib.axes._subplots.AxesSubplot at 0x7f1ae820e390>"
            ]
          },
          "metadata": {},
          "execution_count": 35
        },
        {
          "output_type": "display_data",
          "data": {
            "text/plain": [
              "<Figure size 432x288 with 1 Axes>"
            ],
            "image/png": "[encoded data removed]"
          },
          "metadata": {
            "needs_background": "light"
          }
        }
      ]
    },
    {
      "cell_type": "code",
      "source": [
        "#df = df[df[\"text_length\"] <= 30]"
      ],
      "metadata": {
        "id": "E2QycaPfE9O_"
      },
      "id": "E2QycaPfE9O_",
      "execution_count": null,
      "outputs": []
    },
    {
      "cell_type": "code",
      "source": [
        "df['label'].value_counts()"
      ],
      "metadata": {
        "id": "SZfcW8pc7JWm",
        "colab": {
          "base_uri": "https://localhost:8080/"
        },
        "outputId": "557d87a4-4f62-427e-f5f2-e48d0d59051f"
      },
      "id": "SZfcW8pc7JWm",
      "execution_count": null,
      "outputs": [
        {
          "output_type": "execute_result",
          "data": {
            "text/plain": [
              "up      8570\n",
              "down    4180\n",
              "Name: label, dtype: int64"
            ]
          },
          "metadata": {},
          "execution_count": 37
        }
      ]
    },
    {
      "cell_type": "code",
      "source": [
        "test=df[:83]\n",
        "train=df[83:]"
      ],
      "metadata": {
        "id": "HMtfWTjw727y"
      },
      "id": "HMtfWTjw727y",
      "execution_count": null,
      "outputs": []
    },
    {
      "cell_type": "code",
      "source": [
        "test.iloc[2]"
      ],
      "metadata": {
        "id": "7eJ9cbT3F16C",
        "colab": {
          "base_uri": "https://localhost:8080/"
        },
        "outputId": "1a98f737-fdb6-4668-ff8c-ed2c7730fd3b"
      },
      "id": "7eJ9cbT3F16C",
      "execution_count": null,
      "outputs": [
        {
          "output_type": "execute_result",
          "data": {
            "text/plain": [
              "label                                                       down\n",
              "content        Ekonomi bali terkontraksi selama pandemi salah...\n",
              "text_length                                                  241\n",
              "Name: 2, dtype: object"
            ]
          },
          "metadata": {},
          "execution_count": 39
        }
      ]
    },
    {
      "cell_type": "code",
      "source": [
        "test[\"content\"][2]"
      ],
      "metadata": {
        "id": "HZReZzO_GNIs",
        "colab": {
          "base_uri": "https://localhost:8080/",
          "height": 174
        },
        "outputId": "e153881f-cc92-4561-8b79-2fdfdc3341e2"
      },
      "id": "HZReZzO_GNIs",
      "execution_count": null,
      "outputs": [
        {
          "output_type": "execute_result",
          "data": {
            "text/plain": [
              "'Ekonomi bali terkontraksi selama pandemi salah satunya disebabkan oleh ribetnya syarat perjalanan yang harus dipenuhi jika menggunakan jalur transportasi udara. Direktur Eksekutif CORE Indonesia menilai bahwa masyarakat yang ingin berlibur memilih destinasi wisata lain salah satunya Yogyakarta dengan syarat perjalanan tidak serumit perjalanan udara. Ekonomi bali tumbuh 2,8 persen sedangkan Yogyakarta 11,8 persen pada kuartal II 2021. \"Memang ada faktor restriksi kebijakan yang mempengaruhi. Ketika transportasi udara direstriksi lebih ketat dibanding transportasi darat, ini menyebabkan permintaan jasa pariwisata tidak bisa pergi ke Bali. Maka cari daerah yang masih bisa (dikunjungi), seperti Yogyakarta,\" Kata Faisal dalam diskusi media Refleksi Ekonomi Akhir Tahun 2021, Rabu (29/12/2021). Yogyakarta menjadi salah satu pilihan wisatawan karena jaraknya yang lebih dekat dari lima kota besar yaitu Jabodetabek. Perjalanan menuju Yogyakarta juga dapat ditempuh menggunakan kereta atau jika menggunakan mobil pribadi jaraknya akan lebih dekat daripada Bali dan juga masih berada di pulau yang sama, begitu tutur Faisal. \"Yogyakarta masih dekat dengan pusat kota lima besar. Masih ada di dalam satu daratan yang difasilitasi dengan tol lintas Jawa,\" ujar Faisal. Yogyakarta memiliki beragam struktur ekonomi yang membantu pertumbuhan ekonomi selama pandemi COVID-19. Sektor pendidikan, industri pengolahan, informasi dan komunikasi dan sektor konstruksi masih menjadi penopang pertumbuhan ekonomi di Yogyakarta sedangkan Bali dominan mengandalkan sektor pariwisata. \"Pada kuncinya adalah struktur ekonomi. Tapi struktur ekonomi ini juga yang menyebabkan perbedaan pemulihan antardaerah, berkelindan dengan faktor-faktor lain seperti pengaruh dari gas dan rem karena adanya peningkatan dan penurunan COVID-19,\" ucap Faisal.'"
            ],
            "application/vnd.google.colaboratory.intrinsic+json": {
              "type": "string"
            }
          },
          "metadata": {},
          "execution_count": 40
        }
      ]
    },
    {
      "cell_type": "code",
      "source": [
        "train_pos = train[train[\"label\"] == \"up\"]\n",
        "train_pos = train_pos.sample(4000 , replace = True)"
      ],
      "metadata": {
        "id": "80wGI0K-7YiU"
      },
      "id": "80wGI0K-7YiU",
      "execution_count": null,
      "outputs": []
    },
    {
      "cell_type": "code",
      "source": [
        "train_neg = train[train[\"label\"] == \"down\"]"
      ],
      "metadata": {
        "id": "KKv5ziHO7er7"
      },
      "id": "KKv5ziHO7er7",
      "execution_count": null,
      "outputs": []
    },
    {
      "cell_type": "code",
      "source": [
        "train_all = train_pos.append(train_neg)"
      ],
      "metadata": {
        "id": "hHVgLfyX7iT_"
      },
      "id": "hHVgLfyX7iT_",
      "execution_count": null,
      "outputs": []
    },
    {
      "cell_type": "code",
      "source": [
        "train_all[\"label\"].value_counts()"
      ],
      "metadata": {
        "id": "c9-z0h1C7psQ",
        "colab": {
          "base_uri": "https://localhost:8080/"
        },
        "outputId": "a3cf096a-da03-442c-97df-a5cbc18122ad"
      },
      "id": "c9-z0h1C7psQ",
      "execution_count": null,
      "outputs": [
        {
          "output_type": "execute_result",
          "data": {
            "text/plain": [
              "down    4140\n",
              "up      4000\n",
              "Name: label, dtype: int64"
            ]
          },
          "metadata": {},
          "execution_count": 44
        }
      ]
    },
    {
      "cell_type": "code",
      "source": [
        "from sklearn.feature_extraction.text import TfidfVectorizer\n",
        "from sklearn.preprocessing import FunctionTransformer\n",
        "from sklearn.model_selection import train_test_split\n",
        "from sklearn.tree import DecisionTreeClassifier\n",
        "from sklearn.pipeline import Pipeline\n",
        "import nltk\n",
        "from nltk.stem import WordNetLemmatizer\n",
        "from nltk.tokenize import TweetTokenizer\n",
        "from nltk.corpus import stopwords\n",
        "from nltk.tag import pos_tag\n",
        "import pandas as pd\n",
        "import time"
      ],
      "metadata": {
        "id": "hH-bsn3BzDEr"
      },
      "id": "hH-bsn3BzDEr",
      "execution_count": null,
      "outputs": []
    },
    {
      "cell_type": "code",
      "execution_count": null,
      "metadata": {
        "id": "55903828"
      },
      "outputs": [],
      "source": [
        "def remove_emojis(data):\n",
        "    emoj = re.compile(\"[\"\n",
        "        u\"\\U0001F600-\\U0001F64F\"  # emoticons\n",
        "        u\"\\U0001F300-\\U0001F5FF\"  # symbols & pictographs\n",
        "        u\"\\U0001F680-\\U0001F6FF\"  # transport & map symbols\n",
        "        u\"\\U0001F1E0-\\U0001F1FF\"  # flags (iOS)\n",
        "        u\"\\U00002500-\\U00002BEF\"  # chinese char\n",
        "        u\"\\U00002702-\\U000027B0\"\n",
        "        u\"\\U00002702-\\U000027B0\"\n",
        "        u\"\\U000024C2-\\U0001F251\"\n",
        "        u\"\\U0001f926-\\U0001f937\"\n",
        "        u\"\\U00010000-\\U0010ffff\"\n",
        "        u\"\\u2640-\\u2642\" \n",
        "        u\"\\u2600-\\u2B55\"\n",
        "        u\"\\u200d\"\n",
        "        u\"\\u23cf\"\n",
        "        u\"\\u23e9\"\n",
        "        u\"\\u231a\"\n",
        "        u\"\\ufe0f\"  \n",
        "        u\"\\u3030\"\n",
        "                      \"]+\", re.UNICODE)\n",
        "    return re.sub(emoj, '', data)\n",
        "\n",
        "def cleansing(text):\n",
        "    text = remove_emojis(text)\n",
        "    text = re.sub(r'http\\S+', '', text)\n",
        "    text = text.lower()\n",
        "    word_list = word_tokenize(text)\n",
        "    word_list = [word for word in word_list if len(word) > 2 and word.isalnum()]\n",
        "    word_list = [word for word in word_list if string.punctuation not in word]\n",
        "    text = ' '.join(word_list)\n",
        "    return text"
      ],
      "id": "55903828"
    },
    {
      "cell_type": "code",
      "execution_count": null,
      "metadata": {
        "id": "oxU3SXrncL7U",
        "colab": {
          "base_uri": "https://localhost:8080/"
        },
        "outputId": "c60e9d48-afc2-44fa-8a9d-9e35ea58cb6a"
      },
      "outputs": [
        {
          "output_type": "stream",
          "name": "stderr",
          "text": [
            "[nltk_data] Downloading package punkt to /root/nltk_data...\n",
            "[nltk_data]   Unzipping tokenizers/punkt.zip.\n"
          ]
        },
        {
          "output_type": "execute_result",
          "data": {
            "text/plain": [
              "True"
            ]
          },
          "metadata": {},
          "execution_count": 47
        }
      ],
      "source": [
        "import nltk\n",
        "nltk.download(\"punkt\")"
      ],
      "id": "oxU3SXrncL7U"
    },
    {
      "cell_type": "code",
      "execution_count": null,
      "metadata": {
        "id": "a7a708cd"
      },
      "outputs": [],
      "source": [
        "train['content'] = train['content'].apply(cleansing)\n",
        "test['content'] = test['content'].apply(cleansing)"
      ],
      "id": "a7a708cd"
    },
    {
      "cell_type": "code",
      "source": [
        "!pip install transformers"
      ],
      "metadata": {
        "id": "kWlaEgiafus9"
      },
      "id": "kWlaEgiafus9",
      "execution_count": null,
      "outputs": []
    },
    {
      "cell_type": "code",
      "source": [
        "from transformers import BertTokenizer, EncoderDecoderModel\n",
        "\n",
        "tokenizer = BertTokenizer.from_pretrained(\"cahya/bert2gpt-indonesian-summarization\")\n",
        "tokenizer.bos_token = tokenizer.cls_token\n",
        "tokenizer.eos_token = tokenizer.sep_token\n",
        "model = EncoderDecoderModel.from_pretrained(\"cahya/bert2gpt-indonesian-summarization\")"
      ],
      "metadata": {
        "id": "D-mDXKUkfw3u",
        "colab": {
          "base_uri": "https://localhost:8080/",
          "height": 177,
          "referenced_widgets": [
            "1b92957172d340208fdc82f2843818a2",
            "a555ec21ef984eb8b9f9e857dfb9b044",
            "d460404d8f514fd8b8900d6b5bac4f74",
            "0dcb5de9e20b4c6ab89d9f81ab3bd10f",
            "471280914fad4d87947a20099d3c77f3",
            "88761cbdb6a84b5386935d384b844c02",
            "1aed0f29a5bf4e86b7304cc47f0e5cea",
            "4f2b30b3ceee4540a6f83da6db8eb315",
            "379509d49fc140558f749f12e1710f1d",
            "f5a9d69d5677491aaecd71035f42cdbc",
            "2536838048314c91be9922ef2b37721e",
            "04bc104ab1604abeb2ecf937fe8c512e",
            "bfa539ad1d8f4620832b4bbf414c8bf9",
            "0c232ac6697a4de9be7b11b55098f26b",
            "fb704bc39f714885834c2fc63165ccd5",
            "ccb17b16cc254be4996e8586b86493b7",
            "34fcd6988b5b4d919cefe4077b49a938",
            "56cf9c40e2794cf292f9064aa9e9c1e9",
            "5ff47e2ffa334e0aa66a50aa35f016c8",
            "19b10674fe9444189c953ce220694df4",
            "49c43a94589d4ce0b4a721d245df1ef9",
            "e0cac18cd9a343bc86358bec3110da80",
            "f3c4b984ae7d40ea8a418b2aef732f24",
            "67393ae4ab22415dac7b7fb278a5746e",
            "145118e5b74d4afab6e0848315f94f41",
            "4382047377fa49fc9380eddfc845f35d",
            "5497b0eff9e846e29a6f621e57d32e03",
            "75e4742250a74b1eb8ff2a6e19ef61a8",
            "bd5ce60a97584f28a54c9821b8f4f986",
            "b135e37b503b4022ae398befa7f40ce5",
            "12c62442ebe74bde87fe34300a325efa",
            "abb3a19a8a0f43a389aa164bfc53bfe3",
            "4eeb91a029e14c43ab196ceb1cc1a1c6",
            "7572c0bab05843429381737dfa1a2edd",
            "a14ef938eadf499897896c88e12843e4",
            "ececf6a7b1d44ede837decb8527d7726",
            "bc640f072f5b43cf966786af24fa285b",
            "8619a7ce25ec48439658bbaec107be0e",
            "fd8b2b1766364542996758af68846fcd",
            "c3fc273b3d14402d82f3888bb0f246c8",
            "b74d31a814564f929c0f10f4ce3e6f0e",
            "400385b5919b4fc79a78e9864b48290f",
            "3bea9eb14ae641599565dff5426b47e7",
            "546a37ecc1ac48da82a58dec23aab82e",
            "1dd4c58e133c449d9a130ca16675252f",
            "b62dbba96ef242658bedf2cb2f01c987",
            "c1af789afd1849d69f874421209fdd76",
            "ddaa7345fd40499fb2fe5cc46c62342e",
            "8f00512413434d69bd2295270b9913cd",
            "28485515e7c04be28e3068017aa73226",
            "56fc7300a2f6499bb28165b4bb5d607f",
            "bd1e9b0cec7e446c85edd722f9905307",
            "4de4cc818e4f449c9a9894b01619792d",
            "3d62f93bdb9b41518b3e326d9a3be0e9",
            "df779b634078438bb41a1320142bd599"
          ]
        },
        "outputId": "5193be6b-289d-4f27-e11b-d86bbc3b9ffe"
      },
      "id": "D-mDXKUkfw3u",
      "execution_count": null,
      "outputs": [
        {
          "output_type": "display_data",
          "data": {
            "text/plain": [
              "Downloading:   0%|          | 0.00/224k [00:00<?, ?B/s]"
            ],
            "application/vnd.jupyter.widget-view+json": {
              "version_major": 2,
              "version_minor": 0,
              "model_id": "1b92957172d340208fdc82f2843818a2"
            }
          },
          "metadata": {}
        },
        {
          "output_type": "display_data",
          "data": {
            "text/plain": [
              "Downloading:   0%|          | 0.00/112 [00:00<?, ?B/s]"
            ],
            "application/vnd.jupyter.widget-view+json": {
              "version_major": 2,
              "version_minor": 0,
              "model_id": "04bc104ab1604abeb2ecf937fe8c512e"
            }
          },
          "metadata": {}
        },
        {
          "output_type": "display_data",
          "data": {
            "text/plain": [
              "Downloading:   0%|          | 0.00/62.0 [00:00<?, ?B/s]"
            ],
            "application/vnd.jupyter.widget-view+json": {
              "version_major": 2,
              "version_minor": 0,
              "model_id": "f3c4b984ae7d40ea8a418b2aef732f24"
            }
          },
          "metadata": {}
        },
        {
          "output_type": "display_data",
          "data": {
            "text/plain": [
              "Downloading:   0%|          | 0.00/4.16k [00:00<?, ?B/s]"
            ],
            "application/vnd.jupyter.widget-view+json": {
              "version_major": 2,
              "version_minor": 0,
              "model_id": "7572c0bab05843429381737dfa1a2edd"
            }
          },
          "metadata": {}
        },
        {
          "output_type": "display_data",
          "data": {
            "text/plain": [
              "Downloading:   0%|          | 0.00/1.00G [00:00<?, ?B/s]"
            ],
            "application/vnd.jupyter.widget-view+json": {
              "version_major": 2,
              "version_minor": 0,
              "model_id": "1dd4c58e133c449d9a130ca16675252f"
            }
          },
          "metadata": {}
        }
      ]
    },
    {
      "cell_type": "code",
      "source": [
        "def machine_summarization(article):\n",
        "  input_ids = tokenizer.encode(article, return_tensors='pt', \n",
        "                               padding=True, truncation=True, \n",
        "                               max_length=512, add_special_tokens = True)\n",
        "  summary_ids = model.generate(input_ids,\n",
        "              min_length=5,\n",
        "              max_length=20, \n",
        "              early_stopping=True,\n",
        "              no_repeat_ngram_size=2,\n",
        "              use_cache=True,\n",
        "              do_sample = True,\n",
        "              top_k = 50,\n",
        "              top_p = 0.95)\n",
        "\n",
        "  summary_text = tokenizer.decode(summary_ids[0], skip_special_tokens=True)\n",
        "  print(summary_text)\n",
        "  return summary_text\n"
      ],
      "metadata": {
        "id": "Cbt_gIgqf4VC"
      },
      "id": "Cbt_gIgqf4VC",
      "execution_count": null,
      "outputs": []
    },
    {
      "cell_type": "code",
      "source": [
        "%%time\n",
        "summary = machine_summarization('sudah hampir dua tahun kita menghadapi pandemi ternyata dampaknya pun berhasil membuat raksasa terseok awal februari 2022 ini saja kita sudah mendapat berita tentang maskapai penerbangan raksasa indonesia yang dikabarkan kolaps dan akan melakukan phk massal bagaimana fakta dan kronologinya garuda indonesia bangkrut isu garuda indonesia tbk giaa akan bangkrut mencuat saat diketahui bahwa perusahaan tersebut akan menemui kementerian ketenagakerjaan kemnaker ')"
      ],
      "metadata": {
        "id": "0Qrz-r6DkPzT",
        "colab": {
          "base_uri": "https://localhost:8080/"
        },
        "outputId": "24090e5e-df84-476e-b194-a2d5cb6ce3c8"
      },
      "id": "0Qrz-r6DkPzT",
      "execution_count": null,
      "outputs": [
        {
          "output_type": "stream",
          "name": "stdout",
          "text": [
            "sudah hampir dua tahun kita menghadapi pandemi ternyata dampaknya pun berhasil membuat raksasa terseok awal februari 2022 ini\n",
            "CPU times: user 10.8 s, sys: 170 ms, total: 11 s\n",
            "Wall time: 5.83 s\n"
          ]
        }
      ]
    },
    {
      "cell_type": "code",
      "source": [
        "summary"
      ],
      "metadata": {
        "id": "YEkqNEwSktQ2",
        "colab": {
          "base_uri": "https://localhost:8080/",
          "height": 53
        },
        "outputId": "3f3fea1f-fdb3-4a8d-d0a4-8469020a6fc5"
      },
      "id": "YEkqNEwSktQ2",
      "execution_count": null,
      "outputs": [
        {
          "output_type": "execute_result",
          "data": {
            "text/plain": [
              "'sudah hampir dua tahun kita menghadapi pandemi ternyata dampaknya pun berhasil membuat raksasa terseok awal februari 2022 ini'"
            ],
            "application/vnd.google.colaboratory.intrinsic+json": {
              "type": "string"
            }
          },
          "metadata": {},
          "execution_count": 53
        }
      ]
    },
    {
      "cell_type": "code",
      "source": [
        "%%time\n",
        "\n",
        "summarized_content = [machine_summarization(text) for text in df['content'].values[:83]]"
      ],
      "metadata": {
        "id": "h0DWKyjegEjT",
        "colab": {
          "base_uri": "https://localhost:8080/"
        },
        "outputId": "2079fd78-9619-4060-c3cd-8d5b9be8452a"
      },
      "id": "h0DWKyjegEjT",
      "execution_count": null,
      "outputs": [
        {
          "output_type": "stream",
          "name": "stdout",
          "text": [
            "santa otentik rally menurut investopedia pada jumat santa keseimbangan wyly atau reli sinterklas\n",
            "perusahaan perdagangan indonesia persero berhasil mengekspor lagi kopi mesir kopi yang berasal dari bandar lampung ini dikirim pada desember\n",
            "ekonomi bali terkontraksi selama pandemi salah satunya disebabkan oleh ribetnya syarat perjalanan yang harus dipenuhi\n",
            "oke kita mulai dari yang masih hangat perbtapak pada desember mendatang muhammad rachmat kaimuddin\n",
            "kegiatan ekspor batu bara resmi dilarang oleh pemerintah selama bulan januari 2022 yang diterbitkan oleh kementerian esdm melalui\n",
            "inflasi sebesar yang terjadi turki tidak lepas dari jatuhnya nilai lira turki terhadap dollar as lire anj\n",
            "dulu goto sempat digugat atas permasalahan merek dagang dengan tuntutan sebesar triliun rupiah belum hilang dari ingatan\n",
            "aset digital termasuk transaksi digital yang dimiliki oleh wajib pajak harus tercantum dalam surat pemberitahuan spt tahunan.\n",
            "richards telah dibeli harga terendah semenjak september lalu harga tertinggi telah turun sebesar dari rp 2020 dengan nilai sampai\n",
            "hubungan kerjasama bisnis yang dijalani antar corp dan bukalapak tidak hanya terhenti sampai pada perkembangan allo\n",
            "ekspor batu bara dipastikan oleh luhut binsartan selaku menteri koordinator bidang maritim dan investasi sudah dapat\n",
            "awal tahun ini sudah banyaknya kabar tidak baik datang dari global mulai kabar dari china eropa hingga amerika serikat\n",
            "penambangan dan penggunaan hewto akan dilarang oleh rusia satu serangan lagi diluncurkan terhadap metrikto yang sebelumnya langkah\n",
            "ibukota baru sudah ditentukan oleh bapak presiden sby yang dinyatakan oleh menteri bappenas suharso monoar\n",
            "tekanan kuat para pemegang saham untuk meningkatkan pertumbuhan perusahaan menjadi salah satu penyebab unilever akan memangkas karyawan\n",
            "saat ini bank indonesia sudah bekerja sama dengan bank negara malaysia untuk melakukan uji coba interkoneksi pembayaran\n",
            "harga minyak goreng akan turun lagi tanggal februari hal itu disampaikan menteri perdagangan muhammad lutfi dalam konferensi pers\n",
            "pasar saham china daratan menyelesaikan perdagangan pada posisi lebih rendah pada hari jumat januari 2022 kemarin 315 kemarin turunnya\n",
            "perhelatan australia terbuka 2022 yang baru saja usai sudah memberikan kesan yang menarik bagi penggemar tenis seluruh dunia ajang\n",
            "sudah hampir dua tahun kita menghadapi pandemi ternyata dampaknya pun berhasil membuat raksasa terseok awal februari 2022 ini\n",
            "minyak mentah merosot setelah opec dan sekutunya menolak meningkatkan produksi serta kekhawatiran ketersediaan pasokan karena cuaca dingin seluruh\n",
            "saham meta platform inc tercatat merosot hingga pada perdagangan kamis beserta laporan kinerja kuartal yang mengecewakan penurunan saham terbesar\n",
            "februari 2018 menjadi bulan yang cukup menarik bagi trader atau investor dalam bentuk mata uang penangkaranto bagaimana\n",
            "direktur jenderal perimbangan keuangan dirjen kementerian keuanga bellea prima menyebut hubungan keuangan antara pemerintah pusat\n",
            "sekitar masyarakat yang sudah melakukan pemesanan kamar hotel terpaksa membatalkan pesanannya lantaran merebaknya kembali varian terbaru dari\n",
            "belakangan ini dunia semakin ramai memperbiaskan nft33 atau 960 yang tidak dapat dipertaruhkan\n",
            "lembaga jasa keuangan indonesia dilarang ojk untuk memfasilitasi segala aktivitas perdagangan hewurrency perbankan asuransi hingga multif\n",
            "jadi jht atau jaminan hari tua adalah jaminan dana yang diberikan kepada pekerja yang sudah memasuki masa pensiun\n",
            "memang indeks harga saham gabungan ihsg ditutup melemah level pada perdagangan hari jumat kemarin pada pekan lalu\n",
            "menteri keuangan republik indonesia sri mulyani mengkhawatirkan konflik kawasan itu dapat memicu perang dunia iii karena menyeret amerika\n",
            "bagi anda yang sudah humor dengan video game bergenre perang modern atau mendekati masa depan seperti serial hankfield\n",
            "sebagai salah satu ritel minimarket waralaba besar indonesia indomaret justru dicurigai menimbun minyak goreng\n",
            "bank dunia mengeluarkan dana hingga 157 miliar dollar atau setara dengan dengan triliun rupiah kurs dalam penanganan pandemi\n",
            "para perajin tempe dan tahu jakarta akan mogok produksi pada februari mendatang karena kenaikan kemungkinan terjadi sampai mei\n",
            "pada sampai februari 2022 kemarin bank indonesia mencatat aliran modal asing masuk pasar keuangan domestik sebesar triliun hal ini\n",
            "saya nikahkan dan saya kawinkan anak kandung saya nanda arsyinta marceline yudhaawiro\n",
            "presiden yudhoyono mengeluarkan instruksi presiden inpres nomor tahun inpres tersebut ditujukan untuk optimalisasi jaminan kesehatan nasional jkn\n",
            "indeks harga saham gabungan ihsg mengalami tren positif pada perdagangan hari ini jumat bursa efek indonesia pada\n",
            "tentu kita tidak dapat menutup mata terhadap dampak yang ditimbulkan akibat konflik tengah gejolak dataranolitik tersebut saham med\n",
            "kenaikan harga gas yang terjadi produk gas elpiji non subsidi cukup meresahkan berbagai kalangan per februari\n",
            "barat telah menanggapi keras invasi rusia atas ukraina tanggapan keras ini berupa berbagai sanksi yang bertujuan melumpuhkan ekonomi rusia\n",
            "indonesia crude nash icp atau harga minyak mentah indonesia mengalami kenaikan pada februari naik sebesar dari pada\n",
            "banyak dari kita mengandalkan hewan peliharaan kita untuk mencerahkan suasana hati kita dan meredakan ketegangan selama tekanan pandemi\n",
            "harga produksi aneka tambang atau antam mengalami kenaikan sebesar kenaikan ini membuat harga emas hari ini berada level\n",
            "halo teman teman - teman subuh perang antara rusia dan ukraina terdapat banyak sekali kesempatan apalagi bila dilihat dari\n",
            "kepergian besar beberapa minggu belakang yang terjadi rusia masih berlanjut hingga sekarang mcdonald ini memberhentikan sementara bisnis mereka 850\n",
            "bulan maret mungkin menjadi bulan yang cukup bikin malas bagi sebagian orang apakah kamu termasuk hal ini berkaitan\n",
            "perusahaan kelas dunia menarik diri dari rusia setelah invasi militer rusia terhadap ukraina lebih dari perusahaan menutup toko dan\n",
            "beberapa hari yang lalu tepatnya jumat softbank group akhirnya secara resmi mengurungkan niatnya untuk turut berinvestasi dalam\n",
            "kalau ngomongin invest properti kayaknya susah banget menghembuskan buat para penduduk khusus nya millen\n",
            "pemerintah memutuskan untuk memberikan subsidi minyak goreng curah hal itu menimbang kondisi penyaluran dan kenaikan harga dari komoditas\n",
            "ketidakjelasan harga nikel dalam beberapa hari kebelakang tentu membuat para investor bingung dengan keadaan pasar sebagai\n",
            "ceo moderna philippee bancel telah menjual 408 juta saham perusahaan sejak awal pandemi virus aids\n",
            "pemberlakuan kenaikan tarif ruas tol oleh jasa marga akan dimulai hari ini sabtu pukul 00. 00 wib hal\n",
            "tidak terasa minggu lalu minyak goreng masih mudah didapat dengan harga yang masuk akal namun kemarin kamis penulis sendiri\n",
            "hal yang akhirnya datang juga yaitu initial public offering ipo darilexorn terbesar indonesia yaitu\n",
            "kasus penipuan trading masih berlanjut belum selesai masalah kemarin soal quotex dan binomo kini muncul lagi\n",
            "kebanyakan orang sudah mengakembatani layanan mobile banking salah satu syarat utama kita ingin mengaktifkan mobile fiktif adalah kita\n",
            "sebagai wujud nyata konsisten komitmen bni sebagai bank yang sangat dekat dengan kampus melalui program campusenna ecosy\n",
            "invasi yang dilakukan rusia terhadap ukraina memang berdampak besar terhadap dunia salah satu yang terdampak adalah keadaan ekonomi rusia\n",
            "waspadai kenaikan harga bahan panganan sebelum ramadhan tiba beberapa bahan pokok seperti bawang putih ayam gula pasir\n",
            "pemerintah resmi menaikkan tarif pajak pertambahan nilai ppn sebesar persen naik dari persen menjadi persen mulai hari jumat\n",
            "wahana ottomitra multiroma tbk wom ( perusahaan pembiayaan ) pada perdagangan kamis saham emi\n",
            "pembagian dividen merupakan momen yang setiap tahun bagi sebagian investor saham bulan april 2022 akan ada banjir div\n",
            "ajith rfard cabraal selaku gubernur bank sentral sri lanka mengajukan pengunduran diri dari pemerintahan menyusul\n",
            "berlaku mulai mei 2022 jasa penyelenggara teknologi finansial seperti jasa pembayaran uang elektronik atau dompet digital resmi dikenakan pajak\n",
            "indeks harga saham gabungan ihsg kembali meraih rekor tertinggi dengan tembus pada level atau naik poin pada\n",
            "indeks harga saham gabungan ihsg akan berpotensi kembali mengalami kenaikan pada pekan ini setelah pada minggu ini\n",
            "rusia membayar obligasi berdenominasi dolar memakai mata uang rubel mengakibatkan peringkat utang valuta asing\n",
            "harga saham goto hari pertama melantai bursa senin melonjak tinggi menyentuh 416 atau naik oleh data\n",
            "dalam tiga dekade inflasi inggris kembali menembus rekor tertinggi level persen pada maret 2022 naik dibandingkan dengan bulan februari\n",
            "yahoo bisa mencapai dalam setahun ceo perusahaan pinjaman hewtoittao telah memprediksi antoni tren belarusia mengatakan\n",
            "kusabarian sentral efek indonesia ksei mencatatkan pertumbuhan jumlah investor pasar modal indonesia hingga akhir triwulan\n",
            "dalam sebulan terakhir investor asing rajin memborong bursa efek indonesia bei dan mencatatkan rekor tertinggi investor dengan kapitalis\n",
            "sebuah kapal tanker minyak komersial yang membawa lebih dari 750 ton solar kandas teluk gabes tenggara tunisia menurut\n",
            "perang serta pandemi menjadi pemicu hampir negara gagal bayar utang mengikuti jejak rusia dan sri lanka sebuah organisasi bernama\n",
            "ekosistem mobil listrik dan baterai indonesia akan dibanjiri ratusan triliun rupiah hal ini dipastikan oleh menteri\n",
            "skema greenshoe merupakan istilah yang ini mulai terdengar setelah emiten yang baru saja melakukan ipo\n",
            "resmi april berlaku larangan ekspor cpo crude palm oil larangan impor serta produk minyak goreng tersebut telah\n",
            "elonalin mengatakan dia telah menyiapkan pendanaan miliar untuk membeli twitter dan dia mencoba untuk menegosiasikan kesepakatan dengan\n",
            "pemerintah memberikan penyertaan modal negara pmn triliun kepada garuda indonesia tbk giaa yang disetujui panitia kerja\n",
            "ketua serikat petani indonesia spi henry saragih mengungkapkan bahwa harga tandan buah segar alga anjlok\n",
            "menjelang libur cuti bersama dan lebaran 2022 ihsg ditutup pada hari kamis selama sepekan ini.\n",
            "CPU times: user 40min 34s, sys: 19 s, total: 40min 53s\n",
            "Wall time: 20min 29s\n"
          ]
        }
      ]
    },
    {
      "cell_type": "code",
      "source": [
        "test[\"content\"] = summarized_content\n",
        "test[\"content\"] = test[\"content\"].apply(cleansing)"
      ],
      "metadata": {
        "id": "9W2E50i93eWl",
        "colab": {
          "base_uri": "https://localhost:8080/"
        },
        "outputId": "211de458-ff38-4d7c-c0ff-8d004ddd02e7"
      },
      "id": "9W2E50i93eWl",
      "execution_count": null,
      "outputs": [
        {
          "output_type": "stream",
          "name": "stderr",
          "text": [
            "/usr/local/lib/python3.7/dist-packages/ipykernel_launcher.py:1: SettingWithCopyWarning: \n",
            "A value is trying to be set on a copy of a slice from a DataFrame.\n",
            "Try using .loc[row_indexer,col_indexer] = value instead\n",
            "\n",
            "See the caveats in the documentation: https://pandas.pydata.org/pandas-docs/stable/user_guide/indexing.html#returning-a-view-versus-a-copy\n",
            "  \"\"\"Entry point for launching an IPython kernel.\n",
            "/usr/local/lib/python3.7/dist-packages/ipykernel_launcher.py:2: SettingWithCopyWarning: \n",
            "A value is trying to be set on a copy of a slice from a DataFrame.\n",
            "Try using .loc[row_indexer,col_indexer] = value instead\n",
            "\n",
            "See the caveats in the documentation: https://pandas.pydata.org/pandas-docs/stable/user_guide/indexing.html#returning-a-view-versus-a-copy\n",
            "  \n"
          ]
        }
      ]
    },
    {
      "cell_type": "code",
      "source": [
        "df.to_csv(\"dataframe_all.csv\")"
      ],
      "metadata": {
        "id": "b_0AqRF9Jo8o"
      },
      "id": "b_0AqRF9Jo8o",
      "execution_count": null,
      "outputs": []
    },
    {
      "cell_type": "code",
      "source": [
        "test[\"label\"].value_counts()"
      ],
      "metadata": {
        "id": "BNOg1zAjpIjG",
        "colab": {
          "base_uri": "https://localhost:8080/"
        },
        "outputId": "90df9f13-f1be-4d92-a9c5-f24710f46517"
      },
      "id": "BNOg1zAjpIjG",
      "execution_count": null,
      "outputs": [
        {
          "output_type": "execute_result",
          "data": {
            "text/plain": [
              "up      43\n",
              "down    40\n",
              "Name: label, dtype: int64"
            ]
          },
          "metadata": {},
          "execution_count": 57
        }
      ]
    },
    {
      "cell_type": "code",
      "source": [
        ""
      ],
      "metadata": {
        "id": "Aep8ZXxk8bK0"
      },
      "id": "Aep8ZXxk8bK0",
      "execution_count": null,
      "outputs": []
    },
    {
      "cell_type": "code",
      "execution_count": null,
      "metadata": {
        "id": "117efc50"
      },
      "outputs": [],
      "source": [
        "import tensorflow as tf\n",
        "from tensorflow import keras\n",
        "from tensorflow.keras import layers\n",
        "from tensorflow.keras.preprocessing.text import Tokenizer\n",
        "from tensorflow.keras.preprocessing.sequence import pad_sequences\n",
        "tokenizer = Tokenizer(oov_token=\"<OOV>\")"
      ],
      "id": "117efc50"
    },
    {
      "cell_type": "code",
      "execution_count": null,
      "metadata": {
        "id": "fb15f400"
      },
      "outputs": [],
      "source": [
        "vocab_size = 30000\n",
        "embedding_dim = 256\n",
        "max_length = 50\n",
        "trunc_type = 'post'\n",
        "oov_tok = '<OOV>'\n",
        "padding_type = 'post'"
      ],
      "id": "fb15f400"
    },
    {
      "cell_type": "code",
      "execution_count": null,
      "metadata": {
        "id": "89514eea"
      },
      "outputs": [],
      "source": [
        "label2idx = {'down': 1 ,   'up': 0}\n",
        "idx2label = {y:x for x,y in label2idx.items()}"
      ],
      "id": "89514eea"
    },
    {
      "cell_type": "code",
      "execution_count": null,
      "metadata": {
        "id": "14d42e73",
        "colab": {
          "base_uri": "https://localhost:8080/"
        },
        "outputId": "3e2a7460-1b12-471d-abb0-c897b57666fb"
      },
      "outputs": [
        {
          "output_type": "execute_result",
          "data": {
            "text/plain": [
              "{0: 'up', 1: 'down'}"
            ]
          },
          "metadata": {},
          "execution_count": 61
        }
      ],
      "source": [
        "idx2label"
      ],
      "id": "14d42e73"
    },
    {
      "cell_type": "code",
      "execution_count": null,
      "metadata": {
        "id": "389457f3",
        "colab": {
          "base_uri": "https://localhost:8080/"
        },
        "outputId": "121a7c26-35cc-4503-b4ca-a6136c10697c"
      },
      "outputs": [
        {
          "output_type": "stream",
          "name": "stderr",
          "text": [
            "/usr/local/lib/python3.7/dist-packages/ipykernel_launcher.py:1: SettingWithCopyWarning: \n",
            "A value is trying to be set on a copy of a slice from a DataFrame.\n",
            "Try using .loc[row_indexer,col_indexer] = value instead\n",
            "\n",
            "See the caveats in the documentation: https://pandas.pydata.org/pandas-docs/stable/user_guide/indexing.html#returning-a-view-versus-a-copy\n",
            "  \"\"\"Entry point for launching an IPython kernel.\n",
            "/usr/local/lib/python3.7/dist-packages/ipykernel_launcher.py:2: SettingWithCopyWarning: \n",
            "A value is trying to be set on a copy of a slice from a DataFrame.\n",
            "Try using .loc[row_indexer,col_indexer] = value instead\n",
            "\n",
            "See the caveats in the documentation: https://pandas.pydata.org/pandas-docs/stable/user_guide/indexing.html#returning-a-view-versus-a-copy\n",
            "  \n"
          ]
        }
      ],
      "source": [
        "train['label_tf'] = train['label'].map(label2idx)\n",
        "test['label_tf'] = test['label'].map(label2idx)"
      ],
      "id": "389457f3"
    },
    {
      "cell_type": "code",
      "execution_count": null,
      "metadata": {
        "id": "39d58982"
      },
      "outputs": [],
      "source": [
        "tokenizer = Tokenizer(num_words=vocab_size, oov_token=oov_tok) # di inference cukup load tokenizer\n",
        "\n",
        "tokenizer.fit_on_texts(df['content'].tolist())\n",
        "word_index = tokenizer.word_index"
      ],
      "id": "39d58982"
    },
    {
      "cell_type": "code",
      "source": [
        "import pickle\n",
        "\n",
        "# saving\n",
        "with open('tokenizer.pickle', 'wb') as handle:\n",
        "    pickle.dump(tokenizer, handle, protocol=pickle.HIGHEST_PROTOCOL)\n",
        "\n",
        "# loading\n",
        "with open('tokenizer.pickle', 'rb') as handle:\n",
        "    tokenizer = pickle.load(handle)"
      ],
      "metadata": {
        "id": "u8M8epAuP407"
      },
      "id": "u8M8epAuP407",
      "execution_count": null,
      "outputs": []
    },
    {
      "cell_type": "code",
      "execution_count": null,
      "metadata": {
        "id": "da85b2df"
      },
      "outputs": [],
      "source": [
        "train_sequences = tokenizer.texts_to_sequences(train['content'].tolist())\n",
        "train_padded = pad_sequences(train_sequences, maxlen=max_length, padding = padding_type, truncating = trunc_type)\n",
        "testing_sentences = tokenizer.texts_to_sequences(test['content'].tolist())\n",
        "testing_padded = pad_sequences(testing_sentences, maxlen=max_length, padding = padding_type, truncating = trunc_type)"
      ],
      "id": "da85b2df"
    },
    {
      "cell_type": "code",
      "execution_count": null,
      "metadata": {
        "id": "034c1d2c"
      },
      "outputs": [],
      "source": [
        "training_labels_final = np.array(train['label_tf'].tolist())\n",
        "testing_labels_final = np.array(test['label_tf'].tolist())"
      ],
      "id": "034c1d2c"
    },
    {
      "cell_type": "code",
      "source": [
        "from tensorflow.keras.callbacks import ModelCheckpoint"
      ],
      "metadata": {
        "id": "HvQV5pjAQ8EN"
      },
      "id": "HvQV5pjAQ8EN",
      "execution_count": null,
      "outputs": []
    },
    {
      "cell_type": "code",
      "execution_count": null,
      "metadata": {
        "id": "20e36b1b",
        "colab": {
          "base_uri": "https://localhost:8080/"
        },
        "outputId": "5281f289-8754-48d1-9409-39fc40d620e2"
      },
      "outputs": [
        {
          "output_type": "stream",
          "name": "stdout",
          "text": [
            "Model: \"sequential\"\n",
            "_________________________________________________________________\n",
            " Layer (type)                Output Shape              Param #   \n",
            "=================================================================\n",
            " embedding (Embedding)       (None, 50, 256)           7680000   \n",
            "                                                                 \n",
            " dropout (Dropout)           (None, 50, 256)           0         \n",
            "                                                                 \n",
            " bidirectional (Bidirectiona  (None, 8)                8352      \n",
            " l)                                                              \n",
            "                                                                 \n",
            " dense (Dense)               (None, 16)                144       \n",
            "                                                                 \n",
            " dropout_1 (Dropout)         (None, 16)                0         \n",
            "                                                                 \n",
            " dense_1 (Dense)             (None, 256)               4352      \n",
            "                                                                 \n",
            " dense_2 (Dense)             (None, 1)                 257       \n",
            "                                                                 \n",
            "=================================================================\n",
            "Total params: 7,693,105\n",
            "Trainable params: 7,693,105\n",
            "Non-trainable params: 0\n",
            "_________________________________________________________________\n"
          ]
        }
      ],
      "source": [
        "model = tf.keras.Sequential([\n",
        "    tf.keras.layers.Embedding(vocab_size, embedding_dim , input_length = max_length),\n",
        "    #tf.keras.layers.Dropout(0.9) ,\n",
        "   # tf.keras.layers.Conv1D(64, 5, activation='relu'),\n",
        "    # tf.keras.layers.MaxPooling1D(pool_size = 4 ) , \n",
        "   #tf.keras.layers.Bidirectional(tf.keras.layers.LSTM(8)) ,\n",
        "    #tf.keras.layers.LSTM(16) , \n",
        "    tf.keras.layers.Dropout(0.5) , \n",
        "    tf.keras.layers.Bidirectional(tf.keras.layers.LSTM(4)),\n",
        "     #tf.keras.layers.Dense(64 , activation='relu') , \n",
        "    tf.keras.layers.Dense(16 , activation='relu'),\n",
        "    tf.keras.layers.Dropout(0.5) ,\n",
        "   tf.keras.layers.Dense(256 , activation='relu'),\n",
        "    tf.keras.layers.Dense( 1 , activation='sigmoid')\n",
        "])\n",
        "\n",
        "callbacks = ModelCheckpoint(\"best_model.h5\",\n",
        "    monitor='val_accuracy',\n",
        "    verbose=1,\n",
        "    save_best_only=True)\n",
        "\n",
        "model.compile(loss='binary_crossentropy', optimizer= optimizers.Adam(learning_rate = 0.001) , \n",
        "              metrics=['accuracy']) \n",
        "model.summary()\n",
        "# cross entropy = negative log likelihood"
      ],
      "id": "20e36b1b"
    },
    {
      "cell_type": "code",
      "source": [
        "testing_padded"
      ],
      "metadata": {
        "id": "Z4iQnVFNB4nY",
        "colab": {
          "base_uri": "https://localhost:8080/"
        },
        "outputId": "b4c5a438-2fe4-421e-a6cc-e371dea9e625"
      },
      "id": "Z4iQnVFNB4nY",
      "execution_count": null,
      "outputs": [
        {
          "output_type": "execute_result",
          "data": {
            "text/plain": [
              "array([[ 3253,  3552,  5928, ...,     0,     0,     0],\n",
              "       [  111,  1041,   225, ...,     0,     0,     0],\n",
              "       [  808,  1827, 21466, ...,     0,     0,     0],\n",
              "       ...,\n",
              "       [  239,   166, 21559, ...,     0,     0,     0],\n",
              "       [ 1179,   835,  1588, ...,     0,     0,     0],\n",
              "       [ 1291,  1608,  1936, ...,     0,     0,     0]], dtype=int32)"
            ]
          },
          "metadata": {},
          "execution_count": 69
        }
      ]
    },
    {
      "cell_type": "code",
      "source": [
        "testing_labels_final"
      ],
      "metadata": {
        "id": "_HO4ixViDbmM",
        "colab": {
          "base_uri": "https://localhost:8080/"
        },
        "outputId": "c6c15c93-e4f4-4b3b-b08c-1b7091f37465"
      },
      "id": "_HO4ixViDbmM",
      "execution_count": null,
      "outputs": [
        {
          "output_type": "execute_result",
          "data": {
            "text/plain": [
              "array([0, 0, 1, 1, 1, 1, 1, 1, 0, 1, 0, 1, 1, 1, 1, 0, 0, 0, 0, 0, 0, 1,\n",
              "       0, 0, 1, 1, 1, 1, 0, 1, 1, 0, 1, 0, 0, 0, 0, 0, 0, 0, 1, 0, 0, 0,\n",
              "       0, 0, 1, 1, 1, 1, 0, 1, 0, 0, 1, 1, 1, 0, 0, 0, 0, 0, 1, 1, 1, 1,\n",
              "       0, 1, 1, 1, 0, 1, 0, 0, 0, 1, 0, 1, 1, 0, 0, 1, 0])"
            ]
          },
          "metadata": {},
          "execution_count": 70
        }
      ]
    },
    {
      "cell_type": "code",
      "execution_count": null,
      "metadata": {
        "id": "45951bfb",
        "colab": {
          "base_uri": "https://localhost:8080/"
        },
        "outputId": "6e161d04-ee89-404c-8415-58caf6223435"
      },
      "outputs": [
        {
          "output_type": "stream",
          "name": "stdout",
          "text": [
            "Epoch 1/10\n",
            "96/99 [============================>.] - ETA: 0s - loss: 0.5036 - accuracy: 0.7613\n",
            "Epoch 1: val_accuracy improved from -inf to 0.55422, saving model to best_model.h5\n",
            "99/99 [==============================] - 11s 21ms/step - loss: 0.4984 - accuracy: 0.7647 - val_loss: 0.8177 - val_accuracy: 0.5542\n",
            "Epoch 2/10\n",
            "96/99 [============================>.] - ETA: 0s - loss: 0.2823 - accuracy: 0.8975\n",
            "Epoch 2: val_accuracy did not improve from 0.55422\n",
            "99/99 [==============================] - 1s 11ms/step - loss: 0.2807 - accuracy: 0.8982 - val_loss: 0.9628 - val_accuracy: 0.5542\n",
            "Epoch 3/10\n",
            "96/99 [============================>.] - ETA: 0s - loss: 0.1946 - accuracy: 0.9323\n",
            "Epoch 3: val_accuracy did not improve from 0.55422\n",
            "99/99 [==============================] - 1s 11ms/step - loss: 0.1954 - accuracy: 0.9319 - val_loss: 1.1164 - val_accuracy: 0.5542\n",
            "Epoch 4/10\n",
            "96/99 [============================>.] - ETA: 0s - loss: 0.1373 - accuracy: 0.9538\n",
            "Epoch 4: val_accuracy did not improve from 0.55422\n",
            "99/99 [==============================] - 1s 11ms/step - loss: 0.1379 - accuracy: 0.9536 - val_loss: 1.4139 - val_accuracy: 0.4578\n",
            "Epoch 5/10\n",
            "95/99 [===========================>..] - ETA: 0s - loss: 0.1036 - accuracy: 0.9641\n",
            "Epoch 5: val_accuracy did not improve from 0.55422\n",
            "99/99 [==============================] - 1s 11ms/step - loss: 0.1034 - accuracy: 0.9641 - val_loss: 1.5543 - val_accuracy: 0.4699\n",
            "Epoch 6/10\n",
            "96/99 [============================>.] - ETA: 0s - loss: 0.0782 - accuracy: 0.9718\n",
            "Epoch 6: val_accuracy did not improve from 0.55422\n",
            "99/99 [==============================] - 1s 11ms/step - loss: 0.0790 - accuracy: 0.9715 - val_loss: 1.9224 - val_accuracy: 0.4217\n",
            "Epoch 7/10\n",
            "95/99 [===========================>..] - ETA: 0s - loss: 0.0632 - accuracy: 0.9766\n",
            "Epoch 7: val_accuracy did not improve from 0.55422\n",
            "99/99 [==============================] - 1s 11ms/step - loss: 0.0638 - accuracy: 0.9766 - val_loss: 2.1716 - val_accuracy: 0.4819\n",
            "Epoch 8/10\n",
            "96/99 [============================>.] - ETA: 0s - loss: 0.0527 - accuracy: 0.9792\n",
            "Epoch 8: val_accuracy did not improve from 0.55422\n",
            "99/99 [==============================] - 1s 11ms/step - loss: 0.0527 - accuracy: 0.9791 - val_loss: 2.3173 - val_accuracy: 0.5060\n",
            "Epoch 9/10\n",
            "96/99 [============================>.] - ETA: 0s - loss: 0.0443 - accuracy: 0.9833\n",
            "Epoch 9: val_accuracy did not improve from 0.55422\n",
            "99/99 [==============================] - 1s 11ms/step - loss: 0.0445 - accuracy: 0.9831 - val_loss: 2.6419 - val_accuracy: 0.4699\n",
            "Epoch 10/10\n",
            "96/99 [============================>.] - ETA: 0s - loss: 0.0366 - accuracy: 0.9864\n",
            "Epoch 10: val_accuracy did not improve from 0.55422\n",
            "99/99 [==============================] - 1s 11ms/step - loss: 0.0370 - accuracy: 0.9863 - val_loss: 2.6681 - val_accuracy: 0.5181\n"
          ]
        }
      ],
      "source": [
        "num_epochs = 10\n",
        "history = model.fit(train_padded, training_labels_final, batch_size = 128 ,  \n",
        "                    epochs=num_epochs, validation_data=(testing_padded, testing_labels_final),\n",
        "              callbacks=[callbacks])"
      ],
      "id": "45951bfb"
    },
    {
      "cell_type": "code",
      "source": [
        "import matplotlib.pyplot as plt\n",
        "\n",
        "plt.plot(history.history[\"loss\"])\n",
        "plt.plot(history.history[\"val_loss\"])"
      ],
      "metadata": {
        "id": "K_FT-Epxspru",
        "colab": {
          "base_uri": "https://localhost:8080/",
          "height": 282
        },
        "outputId": "e2384b81-992c-4b80-dbc5-2884caa29649"
      },
      "id": "K_FT-Epxspru",
      "execution_count": null,
      "outputs": [
        {
          "output_type": "execute_result",
          "data": {
            "text/plain": [
              "[<matplotlib.lines.Line2D at 0x7f19abfb3ad0>]"
            ]
          },
          "metadata": {},
          "execution_count": 72
        },
        {
          "output_type": "display_data",
          "data": {
            "text/plain": [
              "<Figure size 432x288 with 1 Axes>"
            ],
            "image/png": "[encoded data removed]"
          },
          "metadata": {
            "needs_background": "light"
          }
        }
      ]
    },
    {
      "cell_type": "code",
      "source": [
        "model.evaluate(testing_padded, testing_labels_final, batch_size = 1)"
      ],
      "metadata": {
        "id": "_qawCXNItf7U",
        "colab": {
          "base_uri": "https://localhost:8080/"
        },
        "outputId": "1d208fd2-8e5d-4034-da81-433b8bafa4a8"
      },
      "id": "_qawCXNItf7U",
      "execution_count": null,
      "outputs": [
        {
          "output_type": "stream",
          "name": "stdout",
          "text": [
            "83/83 [==============================] - 1s 4ms/step - loss: 2.6681 - accuracy: 0.5181\n"
          ]
        },
        {
          "output_type": "execute_result",
          "data": {
            "text/plain": [
              "[2.6680567264556885, 0.5180723071098328]"
            ]
          },
          "metadata": {},
          "execution_count": 73
        }
      ]
    },
    {
      "cell_type": "code",
      "execution_count": null,
      "metadata": {
        "id": "i8opWwRPvT2H",
        "colab": {
          "base_uri": "https://localhost:8080/",
          "height": 590
        },
        "outputId": "445aac3b-f763-4dd9-de4a-90387a8a9760"
      },
      "outputs": [
        {
          "output_type": "stream",
          "name": "stdout",
          "text": [
            "dict_keys(['loss', 'accuracy', 'val_loss', 'val_accuracy'])\n"
          ]
        },
        {
          "output_type": "display_data",
          "data": {
            "text/plain": [
              "<Figure size 432x288 with 1 Axes>"
            ],
            "image/png": "[encoded data removed]"
          },
          "metadata": {
            "needs_background": "light"
          }
        },
        {
          "output_type": "display_data",
          "data": {
            "text/plain": [
              "<Figure size 432x288 with 1 Axes>"
            ],
            "image/png": "[encoded data removed]"
          },
          "metadata": {
            "needs_background": "light"
          }
        }
      ],
      "source": [
        "import matplotlib.pyplot as plt\n",
        "\n",
        "print(history.history.keys())\n",
        "\n",
        "plt.plot(history.history['accuracy'])\n",
        "plt.plot(history.history['val_accuracy'])\n",
        "plt.title('model accuracy')\n",
        "plt.ylabel('accuracy')\n",
        "plt.xlabel('epoch')\n",
        "plt.legend(['train', 'test'], loc='upper left')\n",
        "plt.show()\n",
        "\n",
        "plt.plot(history.history['loss'])\n",
        "plt.plot(history.history['val_loss'])\n",
        "plt.title('model loss')\n",
        "plt.ylabel('loss')\n",
        "plt.xlabel('epoch')\n",
        "plt.legend(['train', 'test'], loc='upper left')\n",
        "plt.show()"
      ],
      "id": "i8opWwRPvT2H"
    },
    {
      "cell_type": "code",
      "execution_count": null,
      "metadata": {
        "id": "ba12a390",
        "colab": {
          "base_uri": "https://localhost:8080/",
          "height": 35
        },
        "outputId": "afc6c270-becc-4cbc-cea4-d1a7e6cfc573"
      },
      "outputs": [
        {
          "output_type": "execute_result",
          "data": {
            "text/plain": [
              "\"model.save('model.h5')\""
            ],
            "application/vnd.google.colaboratory.intrinsic+json": {
              "type": "string"
            }
          },
          "metadata": {},
          "execution_count": 75
        }
      ],
      "source": [
        "\"\"\"model.save('model.h5')\"\"\""
      ],
      "id": "ba12a390"
    },
    {
      "cell_type": "code",
      "source": [
        "\"\"\"if __name__ == '__main__':\n",
        "    model.save(\"model.h5\")\"\"\""
      ],
      "metadata": {
        "id": "q_5NEEdnjfIt"
      },
      "id": "q_5NEEdnjfIt",
      "execution_count": null,
      "outputs": []
    },
    {
      "cell_type": "code",
      "source": [
        "\"\"\"if __name__ == '__main__':\n",
        "    model.save(\"model.pkl\")\"\"\""
      ],
      "metadata": {
        "id": "47vb-f-3kDLZ"
      },
      "id": "47vb-f-3kDLZ",
      "execution_count": null,
      "outputs": []
    },
    {
      "cell_type": "code",
      "execution_count": null,
      "metadata": {
        "id": "1c05de99"
      },
      "outputs": [],
      "source": [
        "\"\"\"import io, json\n",
        "tokenizer_json = tokenizer.to_json()\n",
        "with io.open('saved_model/tokenizer.json', 'w', encoding='utf-8') as f:\n",
        "    f.write(json.dumps(tokenizer_json, ensure_ascii=False))\"\"\""
      ],
      "id": "1c05de99"
    },
    {
      "cell_type": "code",
      "execution_count": null,
      "metadata": {
        "id": "6bf5f2b3"
      },
      "outputs": [],
      "source": [
        "\"\"\"with open('saved_model/label2idx.json', 'w') as fp:\n",
        "    json.dump(label2idx, fp)\n",
        "with open('saved_model/idx2label.json', 'w') as fp:\n",
        "    json.dump(idx2label, fp)\"\"\""
      ],
      "id": "6bf5f2b3"
    },
    {
      "cell_type": "code",
      "execution_count": null,
      "metadata": {
        "id": "ac2bd318"
      },
      "outputs": [],
      "source": [
        "#def tf_prediction(input_text, model, tokenizer):\n",
        "   # input_sequence = tokenizer.texts_to_sequences([input_text])\n",
        "   # input_padded = pad_sequences(input_sequence, maxlen=50, padding = 'post', truncating = 'post')\n",
        "   # predicted = model(input_padded)\n",
        "   # print(predicted)\n",
        "   # label_predicted = np.argmax(predicted[0])\n",
        "   # return label_predicted, predicted[0][label_predicted]\n",
        "\n",
        "#def tf_prediction_batch(list_text, model, tokenizer):\n",
        "  #  input_sequence = tokenizer.texts_to_sequences(list_text)\n",
        "   # input_sequence = pad_sequences(input_sequence, maxlen=50, padding = 'post', truncating = 'post')\n",
        "   # print(input_sequence.shape)\n",
        "   # predicted = model(input_sequence)\n",
        "   # label_predicted = np.argmax(predicted, axis = 1)\n",
        "   # return predicted, label_predicted"
      ],
      "id": "ac2bd318"
    },
    {
      "cell_type": "code",
      "execution_count": null,
      "metadata": {
        "id": "1b6480f2"
      },
      "outputs": [],
      "source": [
        "#output_label = tf_prediction('krisis moneter indonesia', model, tokenizer )"
      ],
      "id": "1b6480f2"
    },
    {
      "cell_type": "code",
      "source": [
        "#output_label"
      ],
      "metadata": {
        "id": "0AU4u9YOU27u"
      },
      "id": "0AU4u9YOU27u",
      "execution_count": null,
      "outputs": []
    },
    {
      "cell_type": "code",
      "source": [
        "\"\"\"idx2label = {y:x for x,y in label2idx.items()}\"\"\""
      ],
      "metadata": {
        "id": "ZhAm9fslT4hL"
      },
      "id": "ZhAm9fslT4hL",
      "execution_count": null,
      "outputs": []
    },
    {
      "cell_type": "code",
      "source": [
        "\"\"\"idx2label[output_label[0]]\"\"\""
      ],
      "metadata": {
        "id": "9GYFtVZnUm3p"
      },
      "id": "9GYFtVZnUm3p",
      "execution_count": null,
      "outputs": []
    },
    {
      "cell_type": "code",
      "source": [
        "!cp \"/content/best_model.h5\" \"/content/gdrive/MyDrive/Flask NLP\""
      ],
      "metadata": {
        "id": "GCPsUKzVUn0O"
      },
      "id": "GCPsUKzVUn0O",
      "execution_count": null,
      "outputs": []
    },
    {
      "cell_type": "code",
      "source": [
        "from google.colab import drive\n",
        "drive.mount('/content/drive')"
      ],
      "metadata": {
        "id": "27xtlvUDwHsO"
      },
      "id": "27xtlvUDwHsO",
      "execution_count": null,
      "outputs": []
    },
    {
      "cell_type": "code",
      "source": [
        "!cp \"/content/tokenizer.pickle\" \"/content/gdrive/MyDrive/Flask NLP\""
      ],
      "metadata": {
        "id": "rMb5LLt8wH_A"
      },
      "id": "rMb5LLt8wH_A",
      "execution_count": null,
      "outputs": []
    },
    {
      "cell_type": "code",
      "source": [
        ""
      ],
      "metadata": {
        "id": "9VxBw-xVwmBY"
      },
      "id": "9VxBw-xVwmBY",
      "execution_count": null,
      "outputs": []
    }
  ],
  "metadata": {
    "colab": {
      "collapsed_sections": [],
      "name": "Copy_of_sentimentanalysis.ipynb",
      "provenance": [],
      "machine_shape": "hm",
      "include_colab_link": true
    },
    "environment": {
      "name": "pytorch-gpu.1-9.m74",
      "type": "gcloud",
      "uri": "gcr.io/deeplearning-platform-release/pytorch-gpu.1-9:m74"
    },
    "kernelspec": {
      "display_name": "Python [conda env:general]",
      "language": "python",
      "name": "conda-env-general-py"
    },
    "language_info": {
      "codemirror_mode": {
        "name": "ipython",
        "version": 3
      },
      "file_extension": ".py",
      "mimetype": "text/x-python",
      "name": "python",
      "nbconvert_exporter": "python",
      "pygments_lexer": "ipython3",
      "version": "3.8.0"
    },
    "accelerator": "GPU",
    "gpuClass": "standard",
    "widgets": {
      "application/vnd.jupyter.widget-state+json": {
        "1b92957172d340208fdc82f2843818a2": {
          "model_module": "@jupyter-widgets/controls",
          "model_name": "HBoxModel",
          "model_module_version": "1.5.0",
          "state": {
            "_dom_classes": [],
            "_model_module": "@jupyter-widgets/controls",
            "_model_module_version": "1.5.0",
            "_model_name": "HBoxModel",
            "_view_count": null,
            "_view_module": "@jupyter-widgets/controls",
            "_view_module_version": "1.5.0",
            "_view_name": "HBoxView",
            "box_style": "",
            "children": [
              "IPY_MODEL_a555ec21ef984eb8b9f9e857dfb9b044",
              "IPY_MODEL_d460404d8f514fd8b8900d6b5bac4f74",
              "IPY_MODEL_0dcb5de9e20b4c6ab89d9f81ab3bd10f"
            ],
            "layout": "IPY_MODEL_471280914fad4d87947a20099d3c77f3"
          }
        },
        "a555ec21ef984eb8b9f9e857dfb9b044": {
          "model_module": "@jupyter-widgets/controls",
          "model_name": "HTMLModel",
          "model_module_version": "1.5.0",
          "state": {
            "_dom_classes": [],
            "_model_module": "@jupyter-widgets/controls",
            "_model_module_version": "1.5.0",
            "_model_name": "HTMLModel",
            "_view_count": null,
            "_view_module": "@jupyter-widgets/controls",
            "_view_module_version": "1.5.0",
            "_view_name": "HTMLView",
            "description": "",
            "description_tooltip": null,
            "layout": "IPY_MODEL_88761cbdb6a84b5386935d384b844c02",
            "placeholder": "​",
            "style": "IPY_MODEL_1aed0f29a5bf4e86b7304cc47f0e5cea",
            "value": "Downloading: 100%"
          }
        },
        "d460404d8f514fd8b8900d6b5bac4f74": {
          "model_module": "@jupyter-widgets/controls",
          "model_name": "FloatProgressModel",
          "model_module_version": "1.5.0",
          "state": {
            "_dom_classes": [],
            "_model_module": "@jupyter-widgets/controls",
            "_model_module_version": "1.5.0",
            "_model_name": "FloatProgressModel",
            "_view_count": null,
            "_view_module": "@jupyter-widgets/controls",
            "_view_module_version": "1.5.0",
            "_view_name": "ProgressView",
            "bar_style": "success",
            "description": "",
            "description_tooltip": null,
            "layout": "IPY_MODEL_4f2b30b3ceee4540a6f83da6db8eb315",
            "max": 229513,
            "min": 0,
            "orientation": "horizontal",
            "style": "IPY_MODEL_379509d49fc140558f749f12e1710f1d",
            "value": 229513
          }
        },
        "0dcb5de9e20b4c6ab89d9f81ab3bd10f": {
          "model_module": "@jupyter-widgets/controls",
          "model_name": "HTMLModel",
          "model_module_version": "1.5.0",
          "state": {
            "_dom_classes": [],
            "_model_module": "@jupyter-widgets/controls",
            "_model_module_version": "1.5.0",
            "_model_name": "HTMLModel",
            "_view_count": null,
            "_view_module": "@jupyter-widgets/controls",
            "_view_module_version": "1.5.0",
            "_view_name": "HTMLView",
            "description": "",
            "description_tooltip": null,
            "layout": "IPY_MODEL_f5a9d69d5677491aaecd71035f42cdbc",
            "placeholder": "​",
            "style": "IPY_MODEL_2536838048314c91be9922ef2b37721e",
            "value": " 224k/224k [00:00&lt;00:00, 2.28MB/s]"
          }
        },
        "471280914fad4d87947a20099d3c77f3": {
          "model_module": "@jupyter-widgets/base",
          "model_name": "LayoutModel",
          "model_module_version": "1.2.0",
          "state": {
            "_model_module": "@jupyter-widgets/base",
            "_model_module_version": "1.2.0",
            "_model_name": "LayoutModel",
            "_view_count": null,
            "_view_module": "@jupyter-widgets/base",
            "_view_module_version": "1.2.0",
            "_view_name": "LayoutView",
            "align_content": null,
            "align_items": null,
            "align_self": null,
            "border": null,
            "bottom": null,
            "display": null,
            "flex": null,
            "flex_flow": null,
            "grid_area": null,
            "grid_auto_columns": null,
            "grid_auto_flow": null,
            "grid_auto_rows": null,
            "grid_column": null,
            "grid_gap": null,
            "grid_row": null,
            "grid_template_areas": null,
            "grid_template_columns": null,
            "grid_template_rows": null,
            "height": null,
            "justify_content": null,
            "justify_items": null,
            "left": null,
            "margin": null,
            "max_height": null,
            "max_width": null,
            "min_height": null,
            "min_width": null,
            "object_fit": null,
            "object_position": null,
            "order": null,
            "overflow": null,
            "overflow_x": null,
            "overflow_y": null,
            "padding": null,
            "right": null,
            "top": null,
            "visibility": null,
            "width": null
          }
        },
        "88761cbdb6a84b5386935d384b844c02": {
          "model_module": "@jupyter-widgets/base",
          "model_name": "LayoutModel",
          "model_module_version": "1.2.0",
          "state": {
            "_model_module": "@jupyter-widgets/base",
            "_model_module_version": "1.2.0",
            "_model_name": "LayoutModel",
            "_view_count": null,
            "_view_module": "@jupyter-widgets/base",
            "_view_module_version": "1.2.0",
            "_view_name": "LayoutView",
            "align_content": null,
            "align_items": null,
            "align_self": null,
            "border": null,
            "bottom": null,
            "display": null,
            "flex": null,
            "flex_flow": null,
            "grid_area": null,
            "grid_auto_columns": null,
            "grid_auto_flow": null,
            "grid_auto_rows": null,
            "grid_column": null,
            "grid_gap": null,
            "grid_row": null,
            "grid_template_areas": null,
            "grid_template_columns": null,
            "grid_template_rows": null,
            "height": null,
            "justify_content": null,
            "justify_items": null,
            "left": null,
            "margin": null,
            "max_height": null,
            "max_width": null,
            "min_height": null,
            "min_width": null,
            "object_fit": null,
            "object_position": null,
            "order": null,
            "overflow": null,
            "overflow_x": null,
            "overflow_y": null,
            "padding": null,
            "right": null,
            "top": null,
            "visibility": null,
            "width": null
          }
        },
        "1aed0f29a5bf4e86b7304cc47f0e5cea": {
          "model_module": "@jupyter-widgets/controls",
          "model_name": "DescriptionStyleModel",
          "model_module_version": "1.5.0",
          "state": {
            "_model_module": "@jupyter-widgets/controls",
            "_model_module_version": "1.5.0",
            "_model_name": "DescriptionStyleModel",
            "_view_count": null,
            "_view_module": "@jupyter-widgets/base",
            "_view_module_version": "1.2.0",
            "_view_name": "StyleView",
            "description_width": ""
          }
        },
        "4f2b30b3ceee4540a6f83da6db8eb315": {
          "model_module": "@jupyter-widgets/base",
          "model_name": "LayoutModel",
          "model_module_version": "1.2.0",
          "state": {
            "_model_module": "@jupyter-widgets/base",
            "_model_module_version": "1.2.0",
            "_model_name": "LayoutModel",
            "_view_count": null,
            "_view_module": "@jupyter-widgets/base",
            "_view_module_version": "1.2.0",
            "_view_name": "LayoutView",
            "align_content": null,
            "align_items": null,
            "align_self": null,
            "border": null,
            "bottom": null,
            "display": null,
            "flex": null,
            "flex_flow": null,
            "grid_area": null,
            "grid_auto_columns": null,
            "grid_auto_flow": null,
            "grid_auto_rows": null,
            "grid_column": null,
            "grid_gap": null,
            "grid_row": null,
            "grid_template_areas": null,
            "grid_template_columns": null,
            "grid_template_rows": null,
            "height": null,
            "justify_content": null,
            "justify_items": null,
            "left": null,
            "margin": null,
            "max_height": null,
            "max_width": null,
            "min_height": null,
            "min_width": null,
            "object_fit": null,
            "object_position": null,
            "order": null,
            "overflow": null,
            "overflow_x": null,
            "overflow_y": null,
            "padding": null,
            "right": null,
            "top": null,
            "visibility": null,
            "width": null
          }
        },
        "379509d49fc140558f749f12e1710f1d": {
          "model_module": "@jupyter-widgets/controls",
          "model_name": "ProgressStyleModel",
          "model_module_version": "1.5.0",
          "state": {
            "_model_module": "@jupyter-widgets/controls",
            "_model_module_version": "1.5.0",
            "_model_name": "ProgressStyleModel",
            "_view_count": null,
            "_view_module": "@jupyter-widgets/base",
            "_view_module_version": "1.2.0",
            "_view_name": "StyleView",
            "bar_color": null,
            "description_width": ""
          }
        },
        "f5a9d69d5677491aaecd71035f42cdbc": {
          "model_module": "@jupyter-widgets/base",
          "model_name": "LayoutModel",
          "model_module_version": "1.2.0",
          "state": {
            "_model_module": "@jupyter-widgets/base",
            "_model_module_version": "1.2.0",
            "_model_name": "LayoutModel",
            "_view_count": null,
            "_view_module": "@jupyter-widgets/base",
            "_view_module_version": "1.2.0",
            "_view_name": "LayoutView",
            "align_content": null,
            "align_items": null,
            "align_self": null,
            "border": null,
            "bottom": null,
            "display": null,
            "flex": null,
            "flex_flow": null,
            "grid_area": null,
            "grid_auto_columns": null,
            "grid_auto_flow": null,
            "grid_auto_rows": null,
            "grid_column": null,
            "grid_gap": null,
            "grid_row": null,
            "grid_template_areas": null,
            "grid_template_columns": null,
            "grid_template_rows": null,
            "height": null,
            "justify_content": null,
            "justify_items": null,
            "left": null,
            "margin": null,
            "max_height": null,
            "max_width": null,
            "min_height": null,
            "min_width": null,
            "object_fit": null,
            "object_position": null,
            "order": null,
            "overflow": null,
            "overflow_x": null,
            "overflow_y": null,
            "padding": null,
            "right": null,
            "top": null,
            "visibility": null,
            "width": null
          }
        },
        "2536838048314c91be9922ef2b37721e": {
          "model_module": "@jupyter-widgets/controls",
          "model_name": "DescriptionStyleModel",
          "model_module_version": "1.5.0",
          "state": {
            "_model_module": "@jupyter-widgets/controls",
            "_model_module_version": "1.5.0",
            "_model_name": "DescriptionStyleModel",
            "_view_count": null,
            "_view_module": "@jupyter-widgets/base",
            "_view_module_version": "1.2.0",
            "_view_name": "StyleView",
            "description_width": ""
          }
        },
        "04bc104ab1604abeb2ecf937fe8c512e": {
          "model_module": "@jupyter-widgets/controls",
          "model_name": "HBoxModel",
          "model_module_version": "1.5.0",
          "state": {
            "_dom_classes": [],
            "_model_module": "@jupyter-widgets/controls",
            "_model_module_version": "1.5.0",
            "_model_name": "HBoxModel",
            "_view_count": null,
            "_view_module": "@jupyter-widgets/controls",
            "_view_module_version": "1.5.0",
            "_view_name": "HBoxView",
            "box_style": "",
            "children": [
              "IPY_MODEL_bfa539ad1d8f4620832b4bbf414c8bf9",
              "IPY_MODEL_0c232ac6697a4de9be7b11b55098f26b",
              "IPY_MODEL_fb704bc39f714885834c2fc63165ccd5"
            ],
            "layout": "IPY_MODEL_ccb17b16cc254be4996e8586b86493b7"
          }
        },
        "bfa539ad1d8f4620832b4bbf414c8bf9": {
          "model_module": "@jupyter-widgets/controls",
          "model_name": "HTMLModel",
          "model_module_version": "1.5.0",
          "state": {
            "_dom_classes": [],
            "_model_module": "@jupyter-widgets/controls",
            "_model_module_version": "1.5.0",
            "_model_name": "HTMLModel",
            "_view_count": null,
            "_view_module": "@jupyter-widgets/controls",
            "_view_module_version": "1.5.0",
            "_view_name": "HTMLView",
            "description": "",
            "description_tooltip": null,
            "layout": "IPY_MODEL_34fcd6988b5b4d919cefe4077b49a938",
            "placeholder": "​",
            "style": "IPY_MODEL_56cf9c40e2794cf292f9064aa9e9c1e9",
            "value": "Downloading: 100%"
          }
        },
        "0c232ac6697a4de9be7b11b55098f26b": {
          "model_module": "@jupyter-widgets/controls",
          "model_name": "FloatProgressModel",
          "model_module_version": "1.5.0",
          "state": {
            "_dom_classes": [],
            "_model_module": "@jupyter-widgets/controls",
            "_model_module_version": "1.5.0",
            "_model_name": "FloatProgressModel",
            "_view_count": null,
            "_view_module": "@jupyter-widgets/controls",
            "_view_module_version": "1.5.0",
            "_view_name": "ProgressView",
            "bar_style": "success",
            "description": "",
            "description_tooltip": null,
            "layout": "IPY_MODEL_5ff47e2ffa334e0aa66a50aa35f016c8",
            "max": 112,
            "min": 0,
            "orientation": "horizontal",
            "style": "IPY_MODEL_19b10674fe9444189c953ce220694df4",
            "value": 112
          }
        },
        "fb704bc39f714885834c2fc63165ccd5": {
          "model_module": "@jupyter-widgets/controls",
          "model_name": "HTMLModel",
          "model_module_version": "1.5.0",
          "state": {
            "_dom_classes": [],
            "_model_module": "@jupyter-widgets/controls",
            "_model_module_version": "1.5.0",
            "_model_name": "HTMLModel",
            "_view_count": null,
            "_view_module": "@jupyter-widgets/controls",
            "_view_module_version": "1.5.0",
            "_view_name": "HTMLView",
            "description": "",
            "description_tooltip": null,
            "layout": "IPY_MODEL_49c43a94589d4ce0b4a721d245df1ef9",
            "placeholder": "​",
            "style": "IPY_MODEL_e0cac18cd9a343bc86358bec3110da80",
            "value": " 112/112 [00:00&lt;00:00, 3.33kB/s]"
          }
        },
        "ccb17b16cc254be4996e8586b86493b7": {
          "model_module": "@jupyter-widgets/base",
          "model_name": "LayoutModel",
          "model_module_version": "1.2.0",
          "state": {
            "_model_module": "@jupyter-widgets/base",
            "_model_module_version": "1.2.0",
            "_model_name": "LayoutModel",
            "_view_count": null,
            "_view_module": "@jupyter-widgets/base",
            "_view_module_version": "1.2.0",
            "_view_name": "LayoutView",
            "align_content": null,
            "align_items": null,
            "align_self": null,
            "border": null,
            "bottom": null,
            "display": null,
            "flex": null,
            "flex_flow": null,
            "grid_area": null,
            "grid_auto_columns": null,
            "grid_auto_flow": null,
            "grid_auto_rows": null,
            "grid_column": null,
            "grid_gap": null,
            "grid_row": null,
            "grid_template_areas": null,
            "grid_template_columns": null,
            "grid_template_rows": null,
            "height": null,
            "justify_content": null,
            "justify_items": null,
            "left": null,
            "margin": null,
            "max_height": null,
            "max_width": null,
            "min_height": null,
            "min_width": null,
            "object_fit": null,
            "object_position": null,
            "order": null,
            "overflow": null,
            "overflow_x": null,
            "overflow_y": null,
            "padding": null,
            "right": null,
            "top": null,
            "visibility": null,
            "width": null
          }
        },
        "34fcd6988b5b4d919cefe4077b49a938": {
          "model_module": "@jupyter-widgets/base",
          "model_name": "LayoutModel",
          "model_module_version": "1.2.0",
          "state": {
            "_model_module": "@jupyter-widgets/base",
            "_model_module_version": "1.2.0",
            "_model_name": "LayoutModel",
            "_view_count": null,
            "_view_module": "@jupyter-widgets/base",
            "_view_module_version": "1.2.0",
            "_view_name": "LayoutView",
            "align_content": null,
            "align_items": null,
            "align_self": null,
            "border": null,
            "bottom": null,
            "display": null,
            "flex": null,
            "flex_flow": null,
            "grid_area": null,
            "grid_auto_columns": null,
            "grid_auto_flow": null,
            "grid_auto_rows": null,
            "grid_column": null,
            "grid_gap": null,
            "grid_row": null,
            "grid_template_areas": null,
            "grid_template_columns": null,
            "grid_template_rows": null,
            "height": null,
            "justify_content": null,
            "justify_items": null,
            "left": null,
            "margin": null,
            "max_height": null,
            "max_width": null,
            "min_height": null,
            "min_width": null,
            "object_fit": null,
            "object_position": null,
            "order": null,
            "overflow": null,
            "overflow_x": null,
            "overflow_y": null,
            "padding": null,
            "right": null,
            "top": null,
            "visibility": null,
            "width": null
          }
        },
        "56cf9c40e2794cf292f9064aa9e9c1e9": {
          "model_module": "@jupyter-widgets/controls",
          "model_name": "DescriptionStyleModel",
          "model_module_version": "1.5.0",
          "state": {
            "_model_module": "@jupyter-widgets/controls",
            "_model_module_version": "1.5.0",
            "_model_name": "DescriptionStyleModel",
            "_view_count": null,
            "_view_module": "@jupyter-widgets/base",
            "_view_module_version": "1.2.0",
            "_view_name": "StyleView",
            "description_width": ""
          }
        },
        "5ff47e2ffa334e0aa66a50aa35f016c8": {
          "model_module": "@jupyter-widgets/base",
          "model_name": "LayoutModel",
          "model_module_version": "1.2.0",
          "state": {
            "_model_module": "@jupyter-widgets/base",
            "_model_module_version": "1.2.0",
            "_model_name": "LayoutModel",
            "_view_count": null,
            "_view_module": "@jupyter-widgets/base",
            "_view_module_version": "1.2.0",
            "_view_name": "LayoutView",
            "align_content": null,
            "align_items": null,
            "align_self": null,
            "border": null,
            "bottom": null,
            "display": null,
            "flex": null,
            "flex_flow": null,
            "grid_area": null,
            "grid_auto_columns": null,
            "grid_auto_flow": null,
            "grid_auto_rows": null,
            "grid_column": null,
            "grid_gap": null,
            "grid_row": null,
            "grid_template_areas": null,
            "grid_template_columns": null,
            "grid_template_rows": null,
            "height": null,
            "justify_content": null,
            "justify_items": null,
            "left": null,
            "margin": null,
            "max_height": null,
            "max_width": null,
            "min_height": null,
            "min_width": null,
            "object_fit": null,
            "object_position": null,
            "order": null,
            "overflow": null,
            "overflow_x": null,
            "overflow_y": null,
            "padding": null,
            "right": null,
            "top": null,
            "visibility": null,
            "width": null
          }
        },
        "19b10674fe9444189c953ce220694df4": {
          "model_module": "@jupyter-widgets/controls",
          "model_name": "ProgressStyleModel",
          "model_module_version": "1.5.0",
          "state": {
            "_model_module": "@jupyter-widgets/controls",
            "_model_module_version": "1.5.0",
            "_model_name": "ProgressStyleModel",
            "_view_count": null,
            "_view_module": "@jupyter-widgets/base",
            "_view_module_version": "1.2.0",
            "_view_name": "StyleView",
            "bar_color": null,
            "description_width": ""
          }
        },
        "49c43a94589d4ce0b4a721d245df1ef9": {
          "model_module": "@jupyter-widgets/base",
          "model_name": "LayoutModel",
          "model_module_version": "1.2.0",
          "state": {
            "_model_module": "@jupyter-widgets/base",
            "_model_module_version": "1.2.0",
            "_model_name": "LayoutModel",
            "_view_count": null,
            "_view_module": "@jupyter-widgets/base",
            "_view_module_version": "1.2.0",
            "_view_name": "LayoutView",
            "align_content": null,
            "align_items": null,
            "align_self": null,
            "border": null,
            "bottom": null,
            "display": null,
            "flex": null,
            "flex_flow": null,
            "grid_area": null,
            "grid_auto_columns": null,
            "grid_auto_flow": null,
            "grid_auto_rows": null,
            "grid_column": null,
            "grid_gap": null,
            "grid_row": null,
            "grid_template_areas": null,
            "grid_template_columns": null,
            "grid_template_rows": null,
            "height": null,
            "justify_content": null,
            "justify_items": null,
            "left": null,
            "margin": null,
            "max_height": null,
            "max_width": null,
            "min_height": null,
            "min_width": null,
            "object_fit": null,
            "object_position": null,
            "order": null,
            "overflow": null,
            "overflow_x": null,
            "overflow_y": null,
            "padding": null,
            "right": null,
            "top": null,
            "visibility": null,
            "width": null
          }
        },
        "e0cac18cd9a343bc86358bec3110da80": {
          "model_module": "@jupyter-widgets/controls",
          "model_name": "DescriptionStyleModel",
          "model_module_version": "1.5.0",
          "state": {
            "_model_module": "@jupyter-widgets/controls",
            "_model_module_version": "1.5.0",
            "_model_name": "DescriptionStyleModel",
            "_view_count": null,
            "_view_module": "@jupyter-widgets/base",
            "_view_module_version": "1.2.0",
            "_view_name": "StyleView",
            "description_width": ""
          }
        },
        "f3c4b984ae7d40ea8a418b2aef732f24": {
          "model_module": "@jupyter-widgets/controls",
          "model_name": "HBoxModel",
          "model_module_version": "1.5.0",
          "state": {
            "_dom_classes": [],
            "_model_module": "@jupyter-widgets/controls",
            "_model_module_version": "1.5.0",
            "_model_name": "HBoxModel",
            "_view_count": null,
            "_view_module": "@jupyter-widgets/controls",
            "_view_module_version": "1.5.0",
            "_view_name": "HBoxView",
            "box_style": "",
            "children": [
              "IPY_MODEL_67393ae4ab22415dac7b7fb278a5746e",
              "IPY_MODEL_145118e5b74d4afab6e0848315f94f41",
              "IPY_MODEL_4382047377fa49fc9380eddfc845f35d"
            ],
            "layout": "IPY_MODEL_5497b0eff9e846e29a6f621e57d32e03"
          }
        },
        "67393ae4ab22415dac7b7fb278a5746e": {
          "model_module": "@jupyter-widgets/controls",
          "model_name": "HTMLModel",
          "model_module_version": "1.5.0",
          "state": {
            "_dom_classes": [],
            "_model_module": "@jupyter-widgets/controls",
            "_model_module_version": "1.5.0",
            "_model_name": "HTMLModel",
            "_view_count": null,
            "_view_module": "@jupyter-widgets/controls",
            "_view_module_version": "1.5.0",
            "_view_name": "HTMLView",
            "description": "",
            "description_tooltip": null,
            "layout": "IPY_MODEL_75e4742250a74b1eb8ff2a6e19ef61a8",
            "placeholder": "​",
            "style": "IPY_MODEL_bd5ce60a97584f28a54c9821b8f4f986",
            "value": "Downloading: 100%"
          }
        },
        "145118e5b74d4afab6e0848315f94f41": {
          "model_module": "@jupyter-widgets/controls",
          "model_name": "FloatProgressModel",
          "model_module_version": "1.5.0",
          "state": {
            "_dom_classes": [],
            "_model_module": "@jupyter-widgets/controls",
            "_model_module_version": "1.5.0",
            "_model_name": "FloatProgressModel",
            "_view_count": null,
            "_view_module": "@jupyter-widgets/controls",
            "_view_module_version": "1.5.0",
            "_view_name": "ProgressView",
            "bar_style": "success",
            "description": "",
            "description_tooltip": null,
            "layout": "IPY_MODEL_b135e37b503b4022ae398befa7f40ce5",
            "max": 62,
            "min": 0,
            "orientation": "horizontal",
            "style": "IPY_MODEL_12c62442ebe74bde87fe34300a325efa",
            "value": 62
          }
        },
        "4382047377fa49fc9380eddfc845f35d": {
          "model_module": "@jupyter-widgets/controls",
          "model_name": "HTMLModel",
          "model_module_version": "1.5.0",
          "state": {
            "_dom_classes": [],
            "_model_module": "@jupyter-widgets/controls",
            "_model_module_version": "1.5.0",
            "_model_name": "HTMLModel",
            "_view_count": null,
            "_view_module": "@jupyter-widgets/controls",
            "_view_module_version": "1.5.0",
            "_view_name": "HTMLView",
            "description": "",
            "description_tooltip": null,
            "layout": "IPY_MODEL_abb3a19a8a0f43a389aa164bfc53bfe3",
            "placeholder": "​",
            "style": "IPY_MODEL_4eeb91a029e14c43ab196ceb1cc1a1c6",
            "value": " 62.0/62.0 [00:00&lt;00:00, 2.11kB/s]"
          }
        },
        "5497b0eff9e846e29a6f621e57d32e03": {
          "model_module": "@jupyter-widgets/base",
          "model_name": "LayoutModel",
          "model_module_version": "1.2.0",
          "state": {
            "_model_module": "@jupyter-widgets/base",
            "_model_module_version": "1.2.0",
            "_model_name": "LayoutModel",
            "_view_count": null,
            "_view_module": "@jupyter-widgets/base",
            "_view_module_version": "1.2.0",
            "_view_name": "LayoutView",
            "align_content": null,
            "align_items": null,
            "align_self": null,
            "border": null,
            "bottom": null,
            "display": null,
            "flex": null,
            "flex_flow": null,
            "grid_area": null,
            "grid_auto_columns": null,
            "grid_auto_flow": null,
            "grid_auto_rows": null,
            "grid_column": null,
            "grid_gap": null,
            "grid_row": null,
            "grid_template_areas": null,
            "grid_template_columns": null,
            "grid_template_rows": null,
            "height": null,
            "justify_content": null,
            "justify_items": null,
            "left": null,
            "margin": null,
            "max_height": null,
            "max_width": null,
            "min_height": null,
            "min_width": null,
            "object_fit": null,
            "object_position": null,
            "order": null,
            "overflow": null,
            "overflow_x": null,
            "overflow_y": null,
            "padding": null,
            "right": null,
            "top": null,
            "visibility": null,
            "width": null
          }
        },
        "75e4742250a74b1eb8ff2a6e19ef61a8": {
          "model_module": "@jupyter-widgets/base",
          "model_name": "LayoutModel",
          "model_module_version": "1.2.0",
          "state": {
            "_model_module": "@jupyter-widgets/base",
            "_model_module_version": "1.2.0",
            "_model_name": "LayoutModel",
            "_view_count": null,
            "_view_module": "@jupyter-widgets/base",
            "_view_module_version": "1.2.0",
            "_view_name": "LayoutView",
            "align_content": null,
            "align_items": null,
            "align_self": null,
            "border": null,
            "bottom": null,
            "display": null,
            "flex": null,
            "flex_flow": null,
            "grid_area": null,
            "grid_auto_columns": null,
            "grid_auto_flow": null,
            "grid_auto_rows": null,
            "grid_column": null,
            "grid_gap": null,
            "grid_row": null,
            "grid_template_areas": null,
            "grid_template_columns": null,
            "grid_template_rows": null,
            "height": null,
            "justify_content": null,
            "justify_items": null,
            "left": null,
            "margin": null,
            "max_height": null,
            "max_width": null,
            "min_height": null,
            "min_width": null,
            "object_fit": null,
            "object_position": null,
            "order": null,
            "overflow": null,
            "overflow_x": null,
            "overflow_y": null,
            "padding": null,
            "right": null,
            "top": null,
            "visibility": null,
            "width": null
          }
        },
        "bd5ce60a97584f28a54c9821b8f4f986": {
          "model_module": "@jupyter-widgets/controls",
          "model_name": "DescriptionStyleModel",
          "model_module_version": "1.5.0",
          "state": {
            "_model_module": "@jupyter-widgets/controls",
            "_model_module_version": "1.5.0",
            "_model_name": "DescriptionStyleModel",
            "_view_count": null,
            "_view_module": "@jupyter-widgets/base",
            "_view_module_version": "1.2.0",
            "_view_name": "StyleView",
            "description_width": ""
          }
        },
        "b135e37b503b4022ae398befa7f40ce5": {
          "model_module": "@jupyter-widgets/base",
          "model_name": "LayoutModel",
          "model_module_version": "1.2.0",
          "state": {
            "_model_module": "@jupyter-widgets/base",
            "_model_module_version": "1.2.0",
            "_model_name": "LayoutModel",
            "_view_count": null,
            "_view_module": "@jupyter-widgets/base",
            "_view_module_version": "1.2.0",
            "_view_name": "LayoutView",
            "align_content": null,
            "align_items": null,
            "align_self": null,
            "border": null,
            "bottom": null,
            "display": null,
            "flex": null,
            "flex_flow": null,
            "grid_area": null,
            "grid_auto_columns": null,
            "grid_auto_flow": null,
            "grid_auto_rows": null,
            "grid_column": null,
            "grid_gap": null,
            "grid_row": null,
            "grid_template_areas": null,
            "grid_template_columns": null,
            "grid_template_rows": null,
            "height": null,
            "justify_content": null,
            "justify_items": null,
            "left": null,
            "margin": null,
            "max_height": null,
            "max_width": null,
            "min_height": null,
            "min_width": null,
            "object_fit": null,
            "object_position": null,
            "order": null,
            "overflow": null,
            "overflow_x": null,
            "overflow_y": null,
            "padding": null,
            "right": null,
            "top": null,
            "visibility": null,
            "width": null
          }
        },
        "12c62442ebe74bde87fe34300a325efa": {
          "model_module": "@jupyter-widgets/controls",
          "model_name": "ProgressStyleModel",
          "model_module_version": "1.5.0",
          "state": {
            "_model_module": "@jupyter-widgets/controls",
            "_model_module_version": "1.5.0",
            "_model_name": "ProgressStyleModel",
            "_view_count": null,
            "_view_module": "@jupyter-widgets/base",
            "_view_module_version": "1.2.0",
            "_view_name": "StyleView",
            "bar_color": null,
            "description_width": ""
          }
        },
        "abb3a19a8a0f43a389aa164bfc53bfe3": {
          "model_module": "@jupyter-widgets/base",
          "model_name": "LayoutModel",
          "model_module_version": "1.2.0",
          "state": {
            "_model_module": "@jupyter-widgets/base",
            "_model_module_version": "1.2.0",
            "_model_name": "LayoutModel",
            "_view_count": null,
            "_view_module": "@jupyter-widgets/base",
            "_view_module_version": "1.2.0",
            "_view_name": "LayoutView",
            "align_content": null,
            "align_items": null,
            "align_self": null,
            "border": null,
            "bottom": null,
            "display": null,
            "flex": null,
            "flex_flow": null,
            "grid_area": null,
            "grid_auto_columns": null,
            "grid_auto_flow": null,
            "grid_auto_rows": null,
            "grid_column": null,
            "grid_gap": null,
            "grid_row": null,
            "grid_template_areas": null,
            "grid_template_columns": null,
            "grid_template_rows": null,
            "height": null,
            "justify_content": null,
            "justify_items": null,
            "left": null,
            "margin": null,
            "max_height": null,
            "max_width": null,
            "min_height": null,
            "min_width": null,
            "object_fit": null,
            "object_position": null,
            "order": null,
            "overflow": null,
            "overflow_x": null,
            "overflow_y": null,
            "padding": null,
            "right": null,
            "top": null,
            "visibility": null,
            "width": null
          }
        },
        "4eeb91a029e14c43ab196ceb1cc1a1c6": {
          "model_module": "@jupyter-widgets/controls",
          "model_name": "DescriptionStyleModel",
          "model_module_version": "1.5.0",
          "state": {
            "_model_module": "@jupyter-widgets/controls",
            "_model_module_version": "1.5.0",
            "_model_name": "DescriptionStyleModel",
            "_view_count": null,
            "_view_module": "@jupyter-widgets/base",
            "_view_module_version": "1.2.0",
            "_view_name": "StyleView",
            "description_width": ""
          }
        },
        "7572c0bab05843429381737dfa1a2edd": {
          "model_module": "@jupyter-widgets/controls",
          "model_name": "HBoxModel",
          "model_module_version": "1.5.0",
          "state": {
            "_dom_classes": [],
            "_model_module": "@jupyter-widgets/controls",
            "_model_module_version": "1.5.0",
            "_model_name": "HBoxModel",
            "_view_count": null,
            "_view_module": "@jupyter-widgets/controls",
            "_view_module_version": "1.5.0",
            "_view_name": "HBoxView",
            "box_style": "",
            "children": [
              "IPY_MODEL_a14ef938eadf499897896c88e12843e4",
              "IPY_MODEL_ececf6a7b1d44ede837decb8527d7726",
              "IPY_MODEL_bc640f072f5b43cf966786af24fa285b"
            ],
            "layout": "IPY_MODEL_8619a7ce25ec48439658bbaec107be0e"
          }
        },
        "a14ef938eadf499897896c88e12843e4": {
          "model_module": "@jupyter-widgets/controls",
          "model_name": "HTMLModel",
          "model_module_version": "1.5.0",
          "state": {
            "_dom_classes": [],
            "_model_module": "@jupyter-widgets/controls",
            "_model_module_version": "1.5.0",
            "_model_name": "HTMLModel",
            "_view_count": null,
            "_view_module": "@jupyter-widgets/controls",
            "_view_module_version": "1.5.0",
            "_view_name": "HTMLView",
            "description": "",
            "description_tooltip": null,
            "layout": "IPY_MODEL_fd8b2b1766364542996758af68846fcd",
            "placeholder": "​",
            "style": "IPY_MODEL_c3fc273b3d14402d82f3888bb0f246c8",
            "value": "Downloading: 100%"
          }
        },
        "ececf6a7b1d44ede837decb8527d7726": {
          "model_module": "@jupyter-widgets/controls",
          "model_name": "FloatProgressModel",
          "model_module_version": "1.5.0",
          "state": {
            "_dom_classes": [],
            "_model_module": "@jupyter-widgets/controls",
            "_model_module_version": "1.5.0",
            "_model_name": "FloatProgressModel",
            "_view_count": null,
            "_view_module": "@jupyter-widgets/controls",
            "_view_module_version": "1.5.0",
            "_view_name": "ProgressView",
            "bar_style": "success",
            "description": "",
            "description_tooltip": null,
            "layout": "IPY_MODEL_b74d31a814564f929c0f10f4ce3e6f0e",
            "max": 4261,
            "min": 0,
            "orientation": "horizontal",
            "style": "IPY_MODEL_400385b5919b4fc79a78e9864b48290f",
            "value": 4261
          }
        },
        "bc640f072f5b43cf966786af24fa285b": {
          "model_module": "@jupyter-widgets/controls",
          "model_name": "HTMLModel",
          "model_module_version": "1.5.0",
          "state": {
            "_dom_classes": [],
            "_model_module": "@jupyter-widgets/controls",
            "_model_module_version": "1.5.0",
            "_model_name": "HTMLModel",
            "_view_count": null,
            "_view_module": "@jupyter-widgets/controls",
            "_view_module_version": "1.5.0",
            "_view_name": "HTMLView",
            "description": "",
            "description_tooltip": null,
            "layout": "IPY_MODEL_3bea9eb14ae641599565dff5426b47e7",
            "placeholder": "​",
            "style": "IPY_MODEL_546a37ecc1ac48da82a58dec23aab82e",
            "value": " 4.16k/4.16k [00:00&lt;00:00, 130kB/s]"
          }
        },
        "8619a7ce25ec48439658bbaec107be0e": {
          "model_module": "@jupyter-widgets/base",
          "model_name": "LayoutModel",
          "model_module_version": "1.2.0",
          "state": {
            "_model_module": "@jupyter-widgets/base",
            "_model_module_version": "1.2.0",
            "_model_name": "LayoutModel",
            "_view_count": null,
            "_view_module": "@jupyter-widgets/base",
            "_view_module_version": "1.2.0",
            "_view_name": "LayoutView",
            "align_content": null,
            "align_items": null,
            "align_self": null,
            "border": null,
            "bottom": null,
            "display": null,
            "flex": null,
            "flex_flow": null,
            "grid_area": null,
            "grid_auto_columns": null,
            "grid_auto_flow": null,
            "grid_auto_rows": null,
            "grid_column": null,
            "grid_gap": null,
            "grid_row": null,
            "grid_template_areas": null,
            "grid_template_columns": null,
            "grid_template_rows": null,
            "height": null,
            "justify_content": null,
            "justify_items": null,
            "left": null,
            "margin": null,
            "max_height": null,
            "max_width": null,
            "min_height": null,
            "min_width": null,
            "object_fit": null,
            "object_position": null,
            "order": null,
            "overflow": null,
            "overflow_x": null,
            "overflow_y": null,
            "padding": null,
            "right": null,
            "top": null,
            "visibility": null,
            "width": null
          }
        },
        "fd8b2b1766364542996758af68846fcd": {
          "model_module": "@jupyter-widgets/base",
          "model_name": "LayoutModel",
          "model_module_version": "1.2.0",
          "state": {
            "_model_module": "@jupyter-widgets/base",
            "_model_module_version": "1.2.0",
            "_model_name": "LayoutModel",
            "_view_count": null,
            "_view_module": "@jupyter-widgets/base",
            "_view_module_version": "1.2.0",
            "_view_name": "LayoutView",
            "align_content": null,
            "align_items": null,
            "align_self": null,
            "border": null,
            "bottom": null,
            "display": null,
            "flex": null,
            "flex_flow": null,
            "grid_area": null,
            "grid_auto_columns": null,
            "grid_auto_flow": null,
            "grid_auto_rows": null,
            "grid_column": null,
            "grid_gap": null,
            "grid_row": null,
            "grid_template_areas": null,
            "grid_template_columns": null,
            "grid_template_rows": null,
            "height": null,
            "justify_content": null,
            "justify_items": null,
            "left": null,
            "margin": null,
            "max_height": null,
            "max_width": null,
            "min_height": null,
            "min_width": null,
            "object_fit": null,
            "object_position": null,
            "order": null,
            "overflow": null,
            "overflow_x": null,
            "overflow_y": null,
            "padding": null,
            "right": null,
            "top": null,
            "visibility": null,
            "width": null
          }
        },
        "c3fc273b3d14402d82f3888bb0f246c8": {
          "model_module": "@jupyter-widgets/controls",
          "model_name": "DescriptionStyleModel",
          "model_module_version": "1.5.0",
          "state": {
            "_model_module": "@jupyter-widgets/controls",
            "_model_module_version": "1.5.0",
            "_model_name": "DescriptionStyleModel",
            "_view_count": null,
            "_view_module": "@jupyter-widgets/base",
            "_view_module_version": "1.2.0",
            "_view_name": "StyleView",
            "description_width": ""
          }
        },
        "b74d31a814564f929c0f10f4ce3e6f0e": {
          "model_module": "@jupyter-widgets/base",
          "model_name": "LayoutModel",
          "model_module_version": "1.2.0",
          "state": {
            "_model_module": "@jupyter-widgets/base",
            "_model_module_version": "1.2.0",
            "_model_name": "LayoutModel",
            "_view_count": null,
            "_view_module": "@jupyter-widgets/base",
            "_view_module_version": "1.2.0",
            "_view_name": "LayoutView",
            "align_content": null,
            "align_items": null,
            "align_self": null,
            "border": null,
            "bottom": null,
            "display": null,
            "flex": null,
            "flex_flow": null,
            "grid_area": null,
            "grid_auto_columns": null,
            "grid_auto_flow": null,
            "grid_auto_rows": null,
            "grid_column": null,
            "grid_gap": null,
            "grid_row": null,
            "grid_template_areas": null,
            "grid_template_columns": null,
            "grid_template_rows": null,
            "height": null,
            "justify_content": null,
            "justify_items": null,
            "left": null,
            "margin": null,
            "max_height": null,
            "max_width": null,
            "min_height": null,
            "min_width": null,
            "object_fit": null,
            "object_position": null,
            "order": null,
            "overflow": null,
            "overflow_x": null,
            "overflow_y": null,
            "padding": null,
            "right": null,
            "top": null,
            "visibility": null,
            "width": null
          }
        },
        "400385b5919b4fc79a78e9864b48290f": {
          "model_module": "@jupyter-widgets/controls",
          "model_name": "ProgressStyleModel",
          "model_module_version": "1.5.0",
          "state": {
            "_model_module": "@jupyter-widgets/controls",
            "_model_module_version": "1.5.0",
            "_model_name": "ProgressStyleModel",
            "_view_count": null,
            "_view_module": "@jupyter-widgets/base",
            "_view_module_version": "1.2.0",
            "_view_name": "StyleView",
            "bar_color": null,
            "description_width": ""
          }
        },
        "3bea9eb14ae641599565dff5426b47e7": {
          "model_module": "@jupyter-widgets/base",
          "model_name": "LayoutModel",
          "model_module_version": "1.2.0",
          "state": {
            "_model_module": "@jupyter-widgets/base",
            "_model_module_version": "1.2.0",
            "_model_name": "LayoutModel",
            "_view_count": null,
            "_view_module": "@jupyter-widgets/base",
            "_view_module_version": "1.2.0",
            "_view_name": "LayoutView",
            "align_content": null,
            "align_items": null,
            "align_self": null,
            "border": null,
            "bottom": null,
            "display": null,
            "flex": null,
            "flex_flow": null,
            "grid_area": null,
            "grid_auto_columns": null,
            "grid_auto_flow": null,
            "grid_auto_rows": null,
            "grid_column": null,
            "grid_gap": null,
            "grid_row": null,
            "grid_template_areas": null,
            "grid_template_columns": null,
            "grid_template_rows": null,
            "height": null,
            "justify_content": null,
            "justify_items": null,
            "left": null,
            "margin": null,
            "max_height": null,
            "max_width": null,
            "min_height": null,
            "min_width": null,
            "object_fit": null,
            "object_position": null,
            "order": null,
            "overflow": null,
            "overflow_x": null,
            "overflow_y": null,
            "padding": null,
            "right": null,
            "top": null,
            "visibility": null,
            "width": null
          }
        },
        "546a37ecc1ac48da82a58dec23aab82e": {
          "model_module": "@jupyter-widgets/controls",
          "model_name": "DescriptionStyleModel",
          "model_module_version": "1.5.0",
          "state": {
            "_model_module": "@jupyter-widgets/controls",
            "_model_module_version": "1.5.0",
            "_model_name": "DescriptionStyleModel",
            "_view_count": null,
            "_view_module": "@jupyter-widgets/base",
            "_view_module_version": "1.2.0",
            "_view_name": "StyleView",
            "description_width": ""
          }
        },
        "1dd4c58e133c449d9a130ca16675252f": {
          "model_module": "@jupyter-widgets/controls",
          "model_name": "HBoxModel",
          "model_module_version": "1.5.0",
          "state": {
            "_dom_classes": [],
            "_model_module": "@jupyter-widgets/controls",
            "_model_module_version": "1.5.0",
            "_model_name": "HBoxModel",
            "_view_count": null,
            "_view_module": "@jupyter-widgets/controls",
            "_view_module_version": "1.5.0",
            "_view_name": "HBoxView",
            "box_style": "",
            "children": [
              "IPY_MODEL_b62dbba96ef242658bedf2cb2f01c987",
              "IPY_MODEL_c1af789afd1849d69f874421209fdd76",
              "IPY_MODEL_ddaa7345fd40499fb2fe5cc46c62342e"
            ],
            "layout": "IPY_MODEL_8f00512413434d69bd2295270b9913cd"
          }
        },
        "b62dbba96ef242658bedf2cb2f01c987": {
          "model_module": "@jupyter-widgets/controls",
          "model_name": "HTMLModel",
          "model_module_version": "1.5.0",
          "state": {
            "_dom_classes": [],
            "_model_module": "@jupyter-widgets/controls",
            "_model_module_version": "1.5.0",
            "_model_name": "HTMLModel",
            "_view_count": null,
            "_view_module": "@jupyter-widgets/controls",
            "_view_module_version": "1.5.0",
            "_view_name": "HTMLView",
            "description": "",
            "description_tooltip": null,
            "layout": "IPY_MODEL_28485515e7c04be28e3068017aa73226",
            "placeholder": "​",
            "style": "IPY_MODEL_56fc7300a2f6499bb28165b4bb5d607f",
            "value": "Downloading: 100%"
          }
        },
        "c1af789afd1849d69f874421209fdd76": {
          "model_module": "@jupyter-widgets/controls",
          "model_name": "FloatProgressModel",
          "model_module_version": "1.5.0",
          "state": {
            "_dom_classes": [],
            "_model_module": "@jupyter-widgets/controls",
            "_model_module_version": "1.5.0",
            "_model_name": "FloatProgressModel",
            "_view_count": null,
            "_view_module": "@jupyter-widgets/controls",
            "_view_module_version": "1.5.0",
            "_view_name": "ProgressView",
            "bar_style": "success",
            "description": "",
            "description_tooltip": null,
            "layout": "IPY_MODEL_bd1e9b0cec7e446c85edd722f9905307",
            "max": 1079069947,
            "min": 0,
            "orientation": "horizontal",
            "style": "IPY_MODEL_4de4cc818e4f449c9a9894b01619792d",
            "value": 1079069947
          }
        },
        "ddaa7345fd40499fb2fe5cc46c62342e": {
          "model_module": "@jupyter-widgets/controls",
          "model_name": "HTMLModel",
          "model_module_version": "1.5.0",
          "state": {
            "_dom_classes": [],
            "_model_module": "@jupyter-widgets/controls",
            "_model_module_version": "1.5.0",
            "_model_name": "HTMLModel",
            "_view_count": null,
            "_view_module": "@jupyter-widgets/controls",
            "_view_module_version": "1.5.0",
            "_view_name": "HTMLView",
            "description": "",
            "description_tooltip": null,
            "layout": "IPY_MODEL_3d62f93bdb9b41518b3e326d9a3be0e9",
            "placeholder": "​",
            "style": "IPY_MODEL_df779b634078438bb41a1320142bd599",
            "value": " 1.00G/1.00G [00:17&lt;00:00, 69.3MB/s]"
          }
        },
        "8f00512413434d69bd2295270b9913cd": {
          "model_module": "@jupyter-widgets/base",
          "model_name": "LayoutModel",
          "model_module_version": "1.2.0",
          "state": {
            "_model_module": "@jupyter-widgets/base",
            "_model_module_version": "1.2.0",
            "_model_name": "LayoutModel",
            "_view_count": null,
            "_view_module": "@jupyter-widgets/base",
            "_view_module_version": "1.2.0",
            "_view_name": "LayoutView",
            "align_content": null,
            "align_items": null,
            "align_self": null,
            "border": null,
            "bottom": null,
            "display": null,
            "flex": null,
            "flex_flow": null,
            "grid_area": null,
            "grid_auto_columns": null,
            "grid_auto_flow": null,
            "grid_auto_rows": null,
            "grid_column": null,
            "grid_gap": null,
            "grid_row": null,
            "grid_template_areas": null,
            "grid_template_columns": null,
            "grid_template_rows": null,
            "height": null,
            "justify_content": null,
            "justify_items": null,
            "left": null,
            "margin": null,
            "max_height": null,
            "max_width": null,
            "min_height": null,
            "min_width": null,
            "object_fit": null,
            "object_position": null,
            "order": null,
            "overflow": null,
            "overflow_x": null,
            "overflow_y": null,
            "padding": null,
            "right": null,
            "top": null,
            "visibility": null,
            "width": null
          }
        },
        "28485515e7c04be28e3068017aa73226": {
          "model_module": "@jupyter-widgets/base",
          "model_name": "LayoutModel",
          "model_module_version": "1.2.0",
          "state": {
            "_model_module": "@jupyter-widgets/base",
            "_model_module_version": "1.2.0",
            "_model_name": "LayoutModel",
            "_view_count": null,
            "_view_module": "@jupyter-widgets/base",
            "_view_module_version": "1.2.0",
            "_view_name": "LayoutView",
            "align_content": null,
            "align_items": null,
            "align_self": null,
            "border": null,
            "bottom": null,
            "display": null,
            "flex": null,
            "flex_flow": null,
            "grid_area": null,
            "grid_auto_columns": null,
            "grid_auto_flow": null,
            "grid_auto_rows": null,
            "grid_column": null,
            "grid_gap": null,
            "grid_row": null,
            "grid_template_areas": null,
            "grid_template_columns": null,
            "grid_template_rows": null,
            "height": null,
            "justify_content": null,
            "justify_items": null,
            "left": null,
            "margin": null,
            "max_height": null,
            "max_width": null,
            "min_height": null,
            "min_width": null,
            "object_fit": null,
            "object_position": null,
            "order": null,
            "overflow": null,
            "overflow_x": null,
            "overflow_y": null,
            "padding": null,
            "right": null,
            "top": null,
            "visibility": null,
            "width": null
          }
        },
        "56fc7300a2f6499bb28165b4bb5d607f": {
          "model_module": "@jupyter-widgets/controls",
          "model_name": "DescriptionStyleModel",
          "model_module_version": "1.5.0",
          "state": {
            "_model_module": "@jupyter-widgets/controls",
            "_model_module_version": "1.5.0",
            "_model_name": "DescriptionStyleModel",
            "_view_count": null,
            "_view_module": "@jupyter-widgets/base",
            "_view_module_version": "1.2.0",
            "_view_name": "StyleView",
            "description_width": ""
          }
        },
        "bd1e9b0cec7e446c85edd722f9905307": {
          "model_module": "@jupyter-widgets/base",
          "model_name": "LayoutModel",
          "model_module_version": "1.2.0",
          "state": {
            "_model_module": "@jupyter-widgets/base",
            "_model_module_version": "1.2.0",
            "_model_name": "LayoutModel",
            "_view_count": null,
            "_view_module": "@jupyter-widgets/base",
            "_view_module_version": "1.2.0",
            "_view_name": "LayoutView",
            "align_content": null,
            "align_items": null,
            "align_self": null,
            "border": null,
            "bottom": null,
            "display": null,
            "flex": null,
            "flex_flow": null,
            "grid_area": null,
            "grid_auto_columns": null,
            "grid_auto_flow": null,
            "grid_auto_rows": null,
            "grid_column": null,
            "grid_gap": null,
            "grid_row": null,
            "grid_template_areas": null,
            "grid_template_columns": null,
            "grid_template_rows": null,
            "height": null,
            "justify_content": null,
            "justify_items": null,
            "left": null,
            "margin": null,
            "max_height": null,
            "max_width": null,
            "min_height": null,
            "min_width": null,
            "object_fit": null,
            "object_position": null,
            "order": null,
            "overflow": null,
            "overflow_x": null,
            "overflow_y": null,
            "padding": null,
            "right": null,
            "top": null,
            "visibility": null,
            "width": null
          }
        },
        "4de4cc818e4f449c9a9894b01619792d": {
          "model_module": "@jupyter-widgets/controls",
          "model_name": "ProgressStyleModel",
          "model_module_version": "1.5.0",
          "state": {
            "_model_module": "@jupyter-widgets/controls",
            "_model_module_version": "1.5.0",
            "_model_name": "ProgressStyleModel",
            "_view_count": null,
            "_view_module": "@jupyter-widgets/base",
            "_view_module_version": "1.2.0",
            "_view_name": "StyleView",
            "bar_color": null,
            "description_width": ""
          }
        },
        "3d62f93bdb9b41518b3e326d9a3be0e9": {
          "model_module": "@jupyter-widgets/base",
          "model_name": "LayoutModel",
          "model_module_version": "1.2.0",
          "state": {
            "_model_module": "@jupyter-widgets/base",
            "_model_module_version": "1.2.0",
            "_model_name": "LayoutModel",
            "_view_count": null,
            "_view_module": "@jupyter-widgets/base",
            "_view_module_version": "1.2.0",
            "_view_name": "LayoutView",
            "align_content": null,
            "align_items": null,
            "align_self": null,
            "border": null,
            "bottom": null,
            "display": null,
            "flex": null,
            "flex_flow": null,
            "grid_area": null,
            "grid_auto_columns": null,
            "grid_auto_flow": null,
            "grid_auto_rows": null,
            "grid_column": null,
            "grid_gap": null,
            "grid_row": null,
            "grid_template_areas": null,
            "grid_template_columns": null,
            "grid_template_rows": null,
            "height": null,
            "justify_content": null,
            "justify_items": null,
            "left": null,
            "margin": null,
            "max_height": null,
            "max_width": null,
            "min_height": null,
            "min_width": null,
            "object_fit": null,
            "object_position": null,
            "order": null,
            "overflow": null,
            "overflow_x": null,
            "overflow_y": null,
            "padding": null,
            "right": null,
            "top": null,
            "visibility": null,
            "width": null
          }
        },
        "df779b634078438bb41a1320142bd599": {
          "model_module": "@jupyter-widgets/controls",
          "model_name": "DescriptionStyleModel",
          "model_module_version": "1.5.0",
          "state": {
            "_model_module": "@jupyter-widgets/controls",
            "_model_module_version": "1.5.0",
            "_model_name": "DescriptionStyleModel",
            "_view_count": null,
            "_view_module": "@jupyter-widgets/base",
            "_view_module_version": "1.2.0",
            "_view_name": "StyleView",
            "description_width": ""
          }
        }
      }
    }
  },
  "nbformat": 4,
  "nbformat_minor": 5
}